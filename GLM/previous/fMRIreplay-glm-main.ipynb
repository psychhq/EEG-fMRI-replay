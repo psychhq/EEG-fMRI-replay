{
 "cells": [
  {
   "cell_type": "markdown",
   "id": "a04dc624-2641-4bd3-8528-d49460936441",
   "metadata": {},
   "source": [
    "# SCRIPT: FIRST LEVEL GLM\n",
    "# PROJECT: FMRIREPLAY\n",
    "# WRITTEN BY QI HUANG 2022\n",
    "# CONTACT: STATE KEY LABORATORY OF COGNITVIE NERUOSCIENCE AND LEARNING, BEIJING NORMAL UNIVERSITY"
   ]
  },
  {
   "cell_type": "markdown",
   "id": "32447e3a-8b05-4b41-ac3c-e1d739a9181a",
   "metadata": {},
   "source": [
    "# ======================================================================\n",
    "# IMPORT RELEVANT PACKAGES\n",
    "# ======================================================================"
   ]
  },
  {
   "cell_type": "code",
   "execution_count": 292,
   "id": "c1579e62-783d-43a1-aa57-184321438889",
   "metadata": {},
   "outputs": [],
   "source": [
    "# import basic libraries:\n",
    "import os\n",
    "import glob\n",
    "import sys\n",
    "import warnings\n",
    "from os.path import join as opj\n",
    "# import nipype libraries:\n",
    "from nipype.interfaces.utility import Function, IdentityInterface\n",
    "from nipype.interfaces.io import SelectFiles, DataSink\n",
    "from nipype.pipeline.engine import Workflow, Node, MapNode\n",
    "from nipype.utils.profiler import log_nodes_cb\n",
    "from nipype import config, logging\n",
    "# import spm and matlab interfaces:\n",
    "from nipype.algorithms.modelgen import SpecifySPMModel\n",
    "from nipype.interfaces.spm.model import (\n",
    "    Level1Design, EstimateModel, EstimateContrast, ThresholdStatistics,\n",
    "    Threshold)\n",
    "from nipype.interfaces.matlab import MatlabCommand\n",
    "from nipype.interfaces import spm\n",
    "# import fsl interfaces:`\n",
    "from nipype.workflows.fmri.fsl import create_susan_smooth\n",
    "from nipype.interfaces.fsl.utils import ExtractROI\n",
    "# import libraries for bids interaction:\n",
    "from bids.layout import BIDSLayout\n",
    "# import freesurfer interfaces:\n",
    "# import custom functions:\n",
    "from fMRIreplay_glm_functions import (\n",
    "    get_subject_info, plot_stat_maps, leave_one_out)"
   ]
  },
  {
   "cell_type": "markdown",
   "id": "7e2ccd47-7110-48e2-bc37-d7bc782e331e",
   "metadata": {},
   "source": [
    "# ======================================================================\n",
    "# ENVIRONMENT SETTINGS (DEALING WITH ERRORS AND WARNINGS):\n",
    "# ======================================================================"
   ]
  },
  {
   "cell_type": "code",
   "execution_count": 293,
   "id": "e5d48046-99c6-45d2-bf8d-ed5c3968ef73",
   "metadata": {},
   "outputs": [],
   "source": [
    "# set the fsl output type environment variable:\n",
    "os.environ['FSLOUTPUTTYPE'] = 'NIFTI_GZ'\n",
    "# deal with nipype-related warnings:\n",
    "os.environ[\"TF_CPP_MIN_LOG_LEVEL\"] = \"3\"\n",
    "# inhibit CTF lock\n",
    "os.environ['MCR_INHIBIT_CTF_LOCK'] = '1'\n",
    "# filter out warnings related to the numpy package:\n",
    "warnings.filterwarnings(\"ignore\", message=\"numpy.dtype size changed*\")\n",
    "warnings.filterwarnings(\"ignore\", message=\"numpy.ufunc size changed*\")"
   ]
  },
  {
   "cell_type": "markdown",
   "id": "a58b4cb7-6020-40b9-87e6-1477752772b1",
   "metadata": {},
   "source": [
    "# ======================================================================\n",
    "# SET PATHS AND SUBJECTS\n",
    "# ======================================================================"
   ]
  },
  {
   "cell_type": "code",
   "execution_count": 297,
   "id": "a78df5e6-ee66-4684-904e-d72b931e12f4",
   "metadata": {},
   "outputs": [
    {
     "name": "stderr",
     "output_type": "stream",
     "text": [
      "stty: 'standard input': Inappropriate ioctl for device\n"
     ]
    }
   ],
   "source": [
    "# define paths depending on the operating system (OS) platform:\n",
    "project = 'fMRIreplay'\n",
    "# initialize empty paths:\n",
    "path_root = None\n",
    "sub_list = None\n",
    "# path to the project root:\n",
    "project_name = 'fmrireplay-glm'\n",
    "path_root = opj(os.getcwd().split(project)[0] ,'fMRIreplay_hq')\n",
    "path_bids = opj(path_root ,'fmrireplay-bids','BIDS')\n",
    "path_fmriprep = opj(path_bids ,'derivatives','fmrireplay-fmriprep')\n",
    "path_glm = opj(path_root, project_name)\n",
    "if 'darwin' in sys.platform:\n",
    "    path_spm = '/home/user01/matlab/spm12'\n",
    "    path_matlab = '/usr/bin/matlab -nodesktop -nosplash'\n",
    "    spm.SPMCommand.set_mlab_paths(paths=path_spm, matlab_cmd=path_matlab)\n",
    "    MatlabCommand.set_default_paths(path_spm)\n",
    "    MatlabCommand.set_default_matlab_cmd(path_matlab)\n",
    "elif 'linux' in sys.platform:\n",
    "    # path_matlab = '/home/mpib/wittkuhn/spm12.simg eval \\$SPMMCRCMD'\n",
    "    # path_matlab = opj('/home', 'beegfs', 'wittkuhn', 'tools', 'spm', 'spm12.simg eval \\$SPMMCRCMD')\n",
    "    path_matlab = '/home/user01/Downloads/spm12/run_spm12.sh /usr/local/MATLAB/MATLAB_Runtime/v97/ script'\n",
    "    # singularity_cmd = 'singularity run -B /home/mpib/wittkuhn -B /mnt/beegfs/home/wittkuhn /home/mpib/wittkuhn/highspeed/highspeed-glm/tools/spm/spm12.simg'\n",
    "    # singularity_spm = 'eval \\$SPMMCRCMD'\n",
    "    # path_matlab = ' '.join([singularity_cmd, singularity_spm])\n",
    "    spm.SPMCommand.set_mlab_paths(matlab_cmd=path_matlab, use_mcr=True)\n",
    "# elif 'win32' in sys.platform:\n",
    "#     #another paths for linux acturally\n",
    "#     project_name = 'fmrireplay-glm'\n",
    "#     path_spm = '/home/user01/matlab/spm12_matlab'\n",
    "#     path_matlab = '/usr/bin/matlab'\n",
    "#     spm.SPMCommand.set_mlab_paths(paths=path_spm, matlab_cmd=path_matlab)\n",
    "#     MatlabCommand.set_default_paths(path_spm)\n",
    "#     MatlabCommand.set_default_matlab_cmd(path_matlab)\n",
    "# set paths for spm:\n",
    "# spm.SPMCommand.set_mlab_paths(paths=path_spm, matlab_cmd=path_matlab)\n",
    "# MatlabCommand.set_default_paths(path_spm)\n",
    "# MatlabCommand.set_default_matlab_cmd(path_matlab)"
   ]
  },
  {
   "cell_type": "code",
   "execution_count": 49,
   "id": "ba98175b-8fcd-46de-a417-9d3be1278a79",
   "metadata": {},
   "outputs": [],
   "source": [
    "# project_name = 'fmrireplay-glm'\n",
    "# path_root = opj(os.getcwd().split(project)[0] ,'fMRIreplay_hq')\n",
    "# path_bids = opj(path_root ,'fmrireplay-bids','BIDS')\n",
    "# path_fmriprep = opj(path_bids ,'derivatives')\n",
    "# path_glm = opj(path_root, project_name)"
   ]
  },
  {
   "cell_type": "code",
   "execution_count": 121,
   "id": "3366561b-40d9-4a4f-b013-8f1cd2108f32",
   "metadata": {},
   "outputs": [
    {
     "name": "stderr",
     "output_type": "stream",
     "text": [
      "stty: 'standard input': Inappropriate ioctl for device\n"
     ]
    },
    {
     "name": "stdout",
     "output_type": "stream",
     "text": [
      "using SPM version None\n"
     ]
    },
    {
     "name": "stderr",
     "output_type": "stream",
     "text": [
      "stty: 'standard input': Inappropriate ioctl for device\n"
     ]
    }
   ],
   "source": [
    "# # grab the list of subjects from the bids data set:\n",
    "# layout = BIDSLayout(path_bids)\n",
    "# # get all subject ids:\n",
    "# sub_list = sorted(layout.get_subjects())\n",
    "# # create a template to add the \"sub-\" prefix to the ids\n",
    "# sub_template = ['sub-'] * len(sub_list)\n",
    "# # add the prefix to all ids:\n",
    "# sub_list = [\"%s%s\" % t for t in zip(sub_template, sub_list)]\n",
    "# if user defined to run specific subject\n",
    "# sub_list = sub_list[int(sys.argv[1]):int(sys.argv[2])]\n",
    "# print the SPM version:\n",
    "print('using SPM version %s' % spm.SPMCommand().version)"
   ]
  },
  {
   "cell_type": "markdown",
   "id": "7911673e-93c8-4b91-a5cf-9b4f68436198",
   "metadata": {},
   "source": [
    "# ======================================================================\n",
    "# DEFINE PBS CLUSTER JOB TEMPLATE (NEEDED WHEN RUNNING ON THE CLUSTER):\n",
    "# ======================================================================"
   ]
  },
  {
   "cell_type": "code",
   "execution_count": null,
   "id": "f5e10721-3ec7-483b-bb1a-cc057d0336dd",
   "metadata": {},
   "outputs": [],
   "source": [
    "# job_template = \"\"\"\n",
    "# #PBS -l walltime=10:00:00\n",
    "# #PBS -j oe\n",
    "# #PBS -o /home/mpib/wittkuhn/fmrireplay/fmrireplay-glm/logs/glm\n",
    "# #PBS -m n\n",
    "# #PBS -v FSLOUTPUTTYPE=NIFTI_GZ\n",
    "# source /etc/bash_completion.d/virtualenvwrapper\n",
    "# workon fmrireplay-glm\n",
    "# module load fsl/5.0\n",
    "# module load matlab/R2017b\n",
    "# module load freesurfer/6.0.0\n",
    "# \"\"\""
   ]
  },
  {
   "cell_type": "markdown",
   "id": "98e51ec1-4cdc-451f-bd06-c2699a2fde17",
   "metadata": {},
   "source": [
    "# ======================================================================\n",
    "# DEFINE SETTINGS\n",
    "# ======================================================================"
   ]
  },
  {
   "cell_type": "code",
   "execution_count": 298,
   "id": "16daccfe-5502-4ec4-97ca-9cbb59fc0c14",
   "metadata": {},
   "outputs": [],
   "source": [
    "# time of repetition, in seconds:\n",
    "time_repetition = 1.3\n",
    "# total number of runs:\n",
    "num_runs = 2\n",
    "# total number of folds for leave-one-out-run:\n",
    "num_fold = 4\n",
    "# smoothing kernel, in mm:\n",
    "fwhm = 4\n",
    "# number of dummy variables to remove from each run:\n",
    "num_dummy = 0"
   ]
  },
  {
   "cell_type": "markdown",
   "id": "453bed61-e09a-43b7-8a6a-5df2f1778ab2",
   "metadata": {},
   "source": [
    "# ======================================================================\n",
    "# DEFINE NODE: INFOSOURCE\n",
    "# ======================================================================"
   ]
  },
  {
   "cell_type": "code",
   "execution_count": 299,
   "id": "29992313-ad43-442e-8c61-f892534b2cd7",
   "metadata": {},
   "outputs": [],
   "source": [
    "sub_list = ['sub-04']"
   ]
  },
  {
   "cell_type": "code",
   "execution_count": 300,
   "id": "a75a81f8-18fa-43fa-9442-412294363819",
   "metadata": {},
   "outputs": [],
   "source": [
    "# define the infosource node that collects the data:\n",
    "infosource = Node(IdentityInterface(\n",
    "    fields=['subject_id']), name='infosource')\n",
    "# let the node iterate (paralellize) over all subjects:\n",
    "infosource.iterables = [('subject_id', sub_list)]"
   ]
  },
  {
   "cell_type": "markdown",
   "id": "b130e7bd-a115-4883-a965-5bf819e2e717",
   "metadata": {},
   "source": [
    "# ======================================================================\n",
    "# DEFINE SELECTFILES NODE\n",
    "# ======================================================================"
   ]
  },
  {
   "cell_type": "code",
   "execution_count": 319,
   "id": "e877165f-e114-4972-b7a0-14a3bafb3170",
   "metadata": {},
   "outputs": [],
   "source": [
    "# check the data files\n",
    "path_confounds = glob.glob(opj(path_fmriprep,'*','func', '*vfl*confounds_timeseries.tsv'))\n",
    "path_events = glob.glob(opj(path_bids ,'*','func', '*vfl*events.tsv')) \n",
    "path_func = glob.glob(opj(path_fmriprep ,'*','func', '*vfl*space-T1w*preproc_bold.nii.gz'))\n",
    "path_anat = glob.glob(opj(path_fmriprep ,'*','anat', '*_desc-preproc_T1w.nii.gz'))\n",
    "path_wholemask = glob.glob(opj(path_fmriprep ,'*','func', '*vfl*space-T1w*brain_mask.nii.gz'))"
   ]
  },
  {
   "cell_type": "code",
   "execution_count": 302,
   "id": "e4d6b01d-b34a-4ebd-818d-5e5f6075e374",
   "metadata": {},
   "outputs": [
    {
     "data": {
      "text/plain": [
       "['/home/user01/fMRIreplay_hq/fmrireplay-bids/BIDS/derivatives/fmrireplay-fmriprep/sub-07/func/sub-07_task-vfl_run-1_desc-confounds_timeseries.tsv',\n",
       " '/home/user01/fMRIreplay_hq/fmrireplay-bids/BIDS/derivatives/fmrireplay-fmriprep/sub-07/func/sub-07_task-vfl_run-2_desc-confounds_timeseries.tsv',\n",
       " '/home/user01/fMRIreplay_hq/fmrireplay-bids/BIDS/derivatives/fmrireplay-fmriprep/sub-05/func/sub-05_task-vfl_run-2_desc-confounds_timeseries.tsv',\n",
       " '/home/user01/fMRIreplay_hq/fmrireplay-bids/BIDS/derivatives/fmrireplay-fmriprep/sub-05/func/sub-05_task-vfl_run-1_desc-confounds_timeseries.tsv',\n",
       " '/home/user01/fMRIreplay_hq/fmrireplay-bids/BIDS/derivatives/fmrireplay-fmriprep/sub-04/func/sub-04_task-vfl_run-1_desc-confounds_timeseries.tsv',\n",
       " '/home/user01/fMRIreplay_hq/fmrireplay-bids/BIDS/derivatives/fmrireplay-fmriprep/sub-04/func/sub-04_task-vfl_run-2_desc-confounds_timeseries.tsv',\n",
       " '/home/user01/fMRIreplay_hq/fmrireplay-bids/BIDS/derivatives/fmrireplay-fmriprep/sub-06/func/sub-06_task-vfl_run-2_desc-confounds_timeseries.tsv',\n",
       " '/home/user01/fMRIreplay_hq/fmrireplay-bids/BIDS/derivatives/fmrireplay-fmriprep/sub-06/func/sub-06_task-vfl_run-1_desc-confounds_timeseries.tsv']"
      ]
     },
     "execution_count": 302,
     "metadata": {},
     "output_type": "execute_result"
    }
   ],
   "source": [
    "path_confounds"
   ]
  },
  {
   "cell_type": "code",
   "execution_count": 303,
   "id": "9c158315-b6cb-48b9-9906-daae0b00067f",
   "metadata": {},
   "outputs": [
    {
     "data": {
      "text/plain": [
       "['/home/user01/fMRIreplay_hq/fmrireplay-bids/BIDS/sub-07/func/sub-07_task-vfl_run-02_events.tsv',\n",
       " '/home/user01/fMRIreplay_hq/fmrireplay-bids/BIDS/sub-07/func/sub-07_task-vfl_run-01_events.tsv',\n",
       " '/home/user01/fMRIreplay_hq/fmrireplay-bids/BIDS/sub-05/func/sub-05_task-vfl_run-01_events.tsv',\n",
       " '/home/user01/fMRIreplay_hq/fmrireplay-bids/BIDS/sub-05/func/sub-05_task-vfl_run-02_events.tsv',\n",
       " '/home/user01/fMRIreplay_hq/fmrireplay-bids/BIDS/sub-04/func/sub-04_task-vfl_run-01_events.tsv',\n",
       " '/home/user01/fMRIreplay_hq/fmrireplay-bids/BIDS/sub-04/func/sub-04_task-vfl_run-02_events.tsv',\n",
       " '/home/user01/fMRIreplay_hq/fmrireplay-bids/BIDS/sub-06/func/sub-06_task-vfl_run-02_events.tsv',\n",
       " '/home/user01/fMRIreplay_hq/fmrireplay-bids/BIDS/sub-06/func/sub-06_task-vfl_run-01_events.tsv']"
      ]
     },
     "execution_count": 303,
     "metadata": {},
     "output_type": "execute_result"
    }
   ],
   "source": [
    "path_events"
   ]
  },
  {
   "cell_type": "code",
   "execution_count": 304,
   "id": "49c80b4b-0228-4450-a6b8-baf35cf44495",
   "metadata": {},
   "outputs": [
    {
     "data": {
      "text/plain": [
       "['/home/user01/fMRIreplay_hq/fmrireplay-bids/BIDS/derivatives/fmrireplay-fmriprep/sub-07/func/sub-07_task-vfl_run-1_space-T1w_desc-preproc_bold.nii.gz',\n",
       " '/home/user01/fMRIreplay_hq/fmrireplay-bids/BIDS/derivatives/fmrireplay-fmriprep/sub-07/func/sub-07_task-vfl_run-2_space-T1w_desc-preproc_bold.nii.gz',\n",
       " '/home/user01/fMRIreplay_hq/fmrireplay-bids/BIDS/derivatives/fmrireplay-fmriprep/sub-05/func/sub-05_task-vfl_run-2_space-T1w_desc-preproc_bold.nii.gz',\n",
       " '/home/user01/fMRIreplay_hq/fmrireplay-bids/BIDS/derivatives/fmrireplay-fmriprep/sub-05/func/sub-05_task-vfl_run-1_space-T1w_desc-preproc_bold.nii.gz',\n",
       " '/home/user01/fMRIreplay_hq/fmrireplay-bids/BIDS/derivatives/fmrireplay-fmriprep/sub-04/func/sub-04_task-vfl_run-2_space-T1w_desc-preproc_bold.nii.gz',\n",
       " '/home/user01/fMRIreplay_hq/fmrireplay-bids/BIDS/derivatives/fmrireplay-fmriprep/sub-04/func/sub-04_task-vfl_run-1_space-T1w_desc-preproc_bold.nii.gz',\n",
       " '/home/user01/fMRIreplay_hq/fmrireplay-bids/BIDS/derivatives/fmrireplay-fmriprep/sub-06/func/sub-06_task-vfl_run-1_space-T1w_desc-preproc_bold.nii.gz',\n",
       " '/home/user01/fMRIreplay_hq/fmrireplay-bids/BIDS/derivatives/fmrireplay-fmriprep/sub-06/func/sub-06_task-vfl_run-2_space-T1w_desc-preproc_bold.nii.gz']"
      ]
     },
     "execution_count": 304,
     "metadata": {},
     "output_type": "execute_result"
    }
   ],
   "source": [
    "path_func"
   ]
  },
  {
   "cell_type": "code",
   "execution_count": 305,
   "id": "272c3d02-3fb8-4510-8cc4-2cda865810e0",
   "metadata": {},
   "outputs": [
    {
     "data": {
      "text/plain": [
       "['/home/user01/fMRIreplay_hq/fmrireplay-bids/BIDS/derivatives/fmrireplay-fmriprep/sub-07/anat/sub-07_desc-preproc_T1w.nii.gz',\n",
       " '/home/user01/fMRIreplay_hq/fmrireplay-bids/BIDS/derivatives/fmrireplay-fmriprep/sub-05/anat/sub-05_desc-preproc_T1w.nii.gz',\n",
       " '/home/user01/fMRIreplay_hq/fmrireplay-bids/BIDS/derivatives/fmrireplay-fmriprep/sub-04/anat/sub-04_desc-preproc_T1w.nii.gz',\n",
       " '/home/user01/fMRIreplay_hq/fmrireplay-bids/BIDS/derivatives/fmrireplay-fmriprep/sub-06/anat/sub-06_desc-preproc_T1w.nii.gz']"
      ]
     },
     "execution_count": 305,
     "metadata": {},
     "output_type": "execute_result"
    }
   ],
   "source": [
    "path_anat"
   ]
  },
  {
   "cell_type": "code",
   "execution_count": 306,
   "id": "68198a11-f768-409b-aede-ef8dcc765202",
   "metadata": {},
   "outputs": [
    {
     "data": {
      "text/plain": [
       "['/home/user01/fMRIreplay_hq/fmrireplay-bids/BIDS/derivatives/fmrireplay-fmriprep/sub-07/func/sub-07_task-vfl_run-2_space-T1w_desc-brain_mask.nii.gz',\n",
       " '/home/user01/fMRIreplay_hq/fmrireplay-bids/BIDS/derivatives/fmrireplay-fmriprep/sub-07/func/sub-07_task-vfl_run-1_space-T1w_desc-brain_mask.nii.gz',\n",
       " '/home/user01/fMRIreplay_hq/fmrireplay-bids/BIDS/derivatives/fmrireplay-fmriprep/sub-05/func/sub-05_task-vfl_run-2_space-T1w_desc-brain_mask.nii.gz',\n",
       " '/home/user01/fMRIreplay_hq/fmrireplay-bids/BIDS/derivatives/fmrireplay-fmriprep/sub-05/func/sub-05_task-vfl_run-1_space-T1w_desc-brain_mask.nii.gz',\n",
       " '/home/user01/fMRIreplay_hq/fmrireplay-bids/BIDS/derivatives/fmrireplay-fmriprep/sub-04/func/sub-04_task-vfl_run-2_space-T1w_desc-brain_mask.nii.gz',\n",
       " '/home/user01/fMRIreplay_hq/fmrireplay-bids/BIDS/derivatives/fmrireplay-fmriprep/sub-04/func/sub-04_task-vfl_run-1_space-T1w_desc-brain_mask.nii.gz',\n",
       " '/home/user01/fMRIreplay_hq/fmrireplay-bids/BIDS/derivatives/fmrireplay-fmriprep/sub-06/func/sub-06_task-vfl_run-1_space-T1w_desc-brain_mask.nii.gz',\n",
       " '/home/user01/fMRIreplay_hq/fmrireplay-bids/BIDS/derivatives/fmrireplay-fmriprep/sub-06/func/sub-06_task-vfl_run-2_space-T1w_desc-brain_mask.nii.gz']"
      ]
     },
     "execution_count": 306,
     "metadata": {},
     "output_type": "execute_result"
    }
   ],
   "source": [
    "path_wholemask"
   ]
  },
  {
   "cell_type": "code",
   "execution_count": 318,
   "id": "11861c36-c3ca-4eb3-b50d-c0f9a93713df",
   "metadata": {},
   "outputs": [],
   "source": [
    "# define all relevant files paths:\n",
    "templates = dict(\n",
    "    confounds=opj(path_fmriprep,'{subject_id}' , 'func','*vfl*confounds_timeseries.tsv'),\n",
    "    events=opj(path_bids,'{subject_id}', 'func','*vfl*events.tsv'),\n",
    "    func=opj(path_fmriprep,'{subject_id}', 'func','*vfl*space-T1w*preproc_bold.nii.gz'),\n",
    "    anat=opj(path_fmriprep,'{subject_id}', 'anat','{subject_id}_desc-preproc_T1w.nii.gz'),\n",
    "    wholemask=opj(path_fmriprep,'{subject_id}','func','*vfl*space-T1w*brain_mask.nii.gz'),\n",
    ")\n",
    "# define the selectfiles node:\n",
    "selectfiles = Node(SelectFiles(templates, sort_filelist=True),\n",
    "                   name='selectfiles')\n",
    "# set expected thread and memory usage for the node:\n",
    "selectfiles.interface.num_threads = 1\n",
    "selectfiles.interface.mem_gb = 0.1\n",
    "selectfiles.inputs.subject_id = 'sub-04'\n",
    "# selectfiles_results = selectfiles.run()"
   ]
  },
  {
   "cell_type": "code",
   "execution_count": 266,
   "id": "c7fc4589-bcfb-4848-9fc2-1ff571cbdc16",
   "metadata": {},
   "outputs": [
    {
     "name": "stdout",
     "output_type": "stream",
     "text": [
      "220626-23:42:18,568 nipype.workflow INFO:\n",
      "\t [Node] Setting-up \"selectfiles\" in \"/tmp/tmpayke69n6/selectfiles\".\n",
      "220626-23:42:18,572 nipype.workflow INFO:\n",
      "\t [Node] Executing \"selectfiles\" <nipype.interfaces.io.SelectFiles>\n",
      "220626-23:42:18,576 nipype.workflow INFO:\n",
      "\t [Node] Finished \"selectfiles\", elapsed time 0.002284s.\n"
     ]
    },
    {
     "data": {
      "text/plain": [
       "\n",
       "anat = /home/user01/fMRIreplay_hq/fmrireplay-bids/BIDS/derivatives/fmrireplay-fmriprep/sub-04/anat/sub-04_desc-preproc_T1w.nii.gz\n",
       "confounds = ['/home/user01/fMRIreplay_hq/fmrireplay-bids/BIDS/derivatives/fmrireplay-fmriprep/sub-04/func/sub-04_task-vfl_run-1_desc-confounds_timeseries.tsv', '/home/user01/fMRIreplay_hq/fmrireplay-bids/BIDS/derivatives/fmrireplay-fmriprep/sub-04/func/sub-04_task-vfl_run-2_desc-confounds_timeseries.tsv']\n",
       "events = ['/home/user01/fMRIreplay_hq/fmrireplay-bids/BIDS/sub-04/func/sub-04_task-vfl_run-01_events.tsv', '/home/user01/fMRIreplay_hq/fmrireplay-bids/BIDS/sub-04/func/sub-04_task-vfl_run-02_events.tsv']\n",
       "func = ['/home/user01/fMRIreplay_hq/fmrireplay-bids/BIDS/derivatives/fmrireplay-fmriprep/sub-04/func/sub-04_task-vfl_run-1_space-T1w_desc-preproc_bold.nii.gz', '/home/user01/fMRIreplay_hq/fmrireplay-bids/BIDS/derivatives/fmrireplay-fmriprep/sub-04/func/sub-04_task-vfl_run-2_space-T1w_desc-preproc_bold.nii.gz']\n",
       "wholemask = ['/home/user01/fMRIreplay_hq/fmrireplay-bids/BIDS/derivatives/fmrireplay-fmriprep/sub-04/func/sub-04_task-vfl_run-1_space-T1w_desc-brain_mask.nii.gz', '/home/user01/fMRIreplay_hq/fmrireplay-bids/BIDS/derivatives/fmrireplay-fmriprep/sub-04/func/sub-04_task-vfl_run-2_space-T1w_desc-brain_mask.nii.gz']"
      ]
     },
     "execution_count": 266,
     "metadata": {},
     "output_type": "execute_result"
    }
   ],
   "source": [
    "# selectfiles.run().outputs"
   ]
  },
  {
   "cell_type": "markdown",
   "id": "6ad5c20f-c0e1-4b9b-b8ce-d7674cac813f",
   "metadata": {
    "tags": []
   },
   "source": [
    "# ======================================================================\n",
    "# DEFINE CREATE_SUSAN_SMOOTH WORKFLOW NODE\n",
    "# ======================================================================"
   ]
  },
  {
   "cell_type": "code",
   "execution_count": 320,
   "id": "db212095-3ca1-4e1b-b7de-44ddaf6b6648",
   "metadata": {},
   "outputs": [],
   "source": [
    "# define the susan smoothing node and specify the smoothing fwhm:\n",
    "susan = create_susan_smooth()\n",
    "# set the smoothing kernel:\n",
    "susan.inputs.inputnode.fwhm = fwhm\n",
    "# set expected thread and memory usage for the nodes:\n",
    "susan.get_node('inputnode').interface.num_threads = 1\n",
    "susan.get_node('inputnode').interface.mem_gb = 0.1\n",
    "susan.get_node('median').interface.num_threads = 1\n",
    "susan.get_node('median').interface.mem_gb = 3\n",
    "susan.get_node('mask').interface.num_threads = 1\n",
    "susan.get_node('mask').interface.mem_gb = 3\n",
    "susan.get_node('meanfunc2').interface.num_threads = 1\n",
    "susan.get_node('meanfunc2').interface.mem_gb = 3\n",
    "susan.get_node('merge').interface.num_threads = 1\n",
    "susan.get_node('merge').interface.mem_gb = 3\n",
    "susan.get_node('multi_inputs').interface.num_threads = 1\n",
    "susan.get_node('multi_inputs').interface.mem_gb = 3\n",
    "susan.get_node('smooth').interface.num_threads = 1\n",
    "susan.get_node('smooth').interface.mem_gb = 3\n",
    "susan.get_node('outputnode').interface.num_threads = 1\n",
    "susan.get_node('outputnode').interface.mem_gb = 0.1"
   ]
  },
  {
   "cell_type": "markdown",
   "id": "1d7a37fc-a7d7-4d7b-932c-0d1a7cc24437",
   "metadata": {},
   "source": [
    "# ======================================================================\n",
    "# DEFINE NODE: FUNCTION TO GET THE SUBJECT-SPECIFIC INFORMATION\n",
    "# ======================================================================"
   ]
  },
  {
   "cell_type": "code",
   "execution_count": 321,
   "id": "28a77884-3632-4d32-98ab-01fb19e6503b",
   "metadata": {},
   "outputs": [],
   "source": [
    "subject_info = MapNode(Function(\n",
    "    input_names=['events', 'confounds'],\n",
    "    output_names=['subject_info', 'event_names'],\n",
    "    function=get_subject_info),\n",
    "    name='subject_info', iterfield=['events', 'confounds'])\n",
    "# set expected thread and memory usage for the node:\n",
    "subject_info.interface.num_threads = 1\n",
    "subject_info.interface.mem_gb = 0.1"
   ]
  },
  {
   "cell_type": "code",
   "execution_count": 310,
   "id": "87a6236f-30d4-438d-8f35-d092eedd2b33",
   "metadata": {},
   "outputs": [],
   "source": [
    "# check the correct trials from VFL task and transform to the event list\n",
    "\n",
    "subject_info.inputs.events = selectfiles_results.outputs.events\n",
    "subject_info.inputs.confounds = selectfiles_results.outputs.confounds\n",
    "# subject_info_results = subject_info.run()\n",
    "# subject_info_results.outputs"
   ]
  },
  {
   "cell_type": "markdown",
   "id": "41fc650d-6d98-4966-a4dd-0996c89b4e66",
   "metadata": {
    "tags": []
   },
   "source": [
    "# ======================================================================\n",
    "# DEFINE NODE: REMOVE DUMMY VARIABLES (USING FSL ROI)\n",
    "# ======================================================================"
   ]
  },
  {
   "cell_type": "code",
   "execution_count": 322,
   "id": "408e8cd6-eb97-4a92-9953-39b3ea6564eb",
   "metadata": {},
   "outputs": [],
   "source": [
    "# function: extract region of interest (ROI) from an image\n",
    "trim = MapNode(ExtractROI(), name='trim', iterfield=['in_file'])\n",
    "# define index of the first selected volume (i.e., minimum index):\n",
    "trim.inputs.t_min = num_dummy\n",
    "# define the number of volumes selected starting at the minimum index:\n",
    "trim.inputs.t_size = -1\n",
    "# define the fsl output type:\n",
    "trim.inputs.output_type = 'NIFTI'\n",
    "# set expected thread and memory usage for the node:\n",
    "trim.interface.num_threads = 1\n",
    "trim.interface.mem_gb = 3"
   ]
  },
  {
   "cell_type": "code",
   "execution_count": 284,
   "id": "1383b423-a2bd-4883-958e-4ca2b236f095",
   "metadata": {},
   "outputs": [
    {
     "ename": "ValueError",
     "evalue": "Input in_file was not set but it is listed in iterfields.",
     "output_type": "error",
     "traceback": [
      "\u001b[0;31m---------------------------------------------------------------------------\u001b[0m",
      "\u001b[0;31mValueError\u001b[0m                                Traceback (most recent call last)",
      "Input \u001b[0;32mIn [284]\u001b[0m, in \u001b[0;36m<cell line: 1>\u001b[0;34m()\u001b[0m\n\u001b[0;32m----> 1\u001b[0m \u001b[43mtrim\u001b[49m\u001b[38;5;241;43m.\u001b[39;49m\u001b[43mrun\u001b[49m\u001b[43m(\u001b[49m\u001b[43m)\u001b[49m\n",
      "File \u001b[0;32m/home/liulab/anaconda3/envs/huangqi_fmriprep/lib/python3.8/site-packages/nipype/pipeline/engine/nodes.py:494\u001b[0m, in \u001b[0;36mNode.run\u001b[0;34m(self, updatehash)\u001b[0m\n\u001b[1;32m    488\u001b[0m         os\u001b[38;5;241m.\u001b[39mremove(outdatedhash)\n\u001b[1;32m    490\u001b[0m \u001b[38;5;66;03m# _get_hashval needs to be called before running. When there is a valid (or seemingly\u001b[39;00m\n\u001b[1;32m    491\u001b[0m \u001b[38;5;66;03m# valid cache), the is_cached() member updates the hashval via _get_hashval.\u001b[39;00m\n\u001b[1;32m    492\u001b[0m \u001b[38;5;66;03m# However, if this node's folder doesn't exist or the result file is not found, then\u001b[39;00m\n\u001b[1;32m    493\u001b[0m \u001b[38;5;66;03m# the hashval needs to be generated here. See #3026 for a larger context.\u001b[39;00m\n\u001b[0;32m--> 494\u001b[0m \u001b[38;5;28;43mself\u001b[39;49m\u001b[38;5;241;43m.\u001b[39;49m\u001b[43m_get_hashval\u001b[49m\u001b[43m(\u001b[49m\u001b[43m)\u001b[49m\n\u001b[1;32m    495\u001b[0m \u001b[38;5;66;03m# Hashfile while running\u001b[39;00m\n\u001b[1;32m    496\u001b[0m hashfile_unfinished \u001b[38;5;241m=\u001b[39m op\u001b[38;5;241m.\u001b[39mjoin(outdir, \u001b[38;5;124m\"\u001b[39m\u001b[38;5;124m_0x\u001b[39m\u001b[38;5;132;01m%s\u001b[39;00m\u001b[38;5;124m_unfinished.json\u001b[39m\u001b[38;5;124m\"\u001b[39m \u001b[38;5;241m%\u001b[39m \u001b[38;5;28mself\u001b[39m\u001b[38;5;241m.\u001b[39m_hashvalue)\n",
      "File \u001b[0;32m/home/liulab/anaconda3/envs/huangqi_fmriprep/lib/python3.8/site-packages/nipype/pipeline/engine/nodes.py:1156\u001b[0m, in \u001b[0;36mMapNode._get_hashval\u001b[0;34m(self)\u001b[0m\n\u001b[1;32m   1153\u001b[0m \u001b[38;5;28;01mif\u001b[39;00m \u001b[38;5;28mself\u001b[39m\u001b[38;5;241m.\u001b[39m_hashvalue \u001b[38;5;129;01mis\u001b[39;00m \u001b[38;5;129;01mnot\u001b[39;00m \u001b[38;5;28;01mNone\u001b[39;00m \u001b[38;5;129;01mand\u001b[39;00m \u001b[38;5;28mself\u001b[39m\u001b[38;5;241m.\u001b[39m_hashed_inputs \u001b[38;5;129;01mis\u001b[39;00m \u001b[38;5;129;01mnot\u001b[39;00m \u001b[38;5;28;01mNone\u001b[39;00m:\n\u001b[1;32m   1154\u001b[0m     \u001b[38;5;28;01mreturn\u001b[39;00m \u001b[38;5;28mself\u001b[39m\u001b[38;5;241m.\u001b[39m_hashed_inputs, \u001b[38;5;28mself\u001b[39m\u001b[38;5;241m.\u001b[39m_hashvalue\n\u001b[0;32m-> 1156\u001b[0m \u001b[38;5;28;43mself\u001b[39;49m\u001b[38;5;241;43m.\u001b[39;49m\u001b[43m_check_iterfield\u001b[49m\u001b[43m(\u001b[49m\u001b[43m)\u001b[49m\n\u001b[1;32m   1157\u001b[0m hashinputs \u001b[38;5;241m=\u001b[39m deepcopy(\u001b[38;5;28mself\u001b[39m\u001b[38;5;241m.\u001b[39m_interface\u001b[38;5;241m.\u001b[39minputs)\n\u001b[1;32m   1158\u001b[0m \u001b[38;5;28;01mfor\u001b[39;00m name \u001b[38;5;129;01min\u001b[39;00m \u001b[38;5;28mself\u001b[39m\u001b[38;5;241m.\u001b[39miterfield:\n",
      "File \u001b[0;32m/home/liulab/anaconda3/envs/huangqi_fmriprep/lib/python3.8/site-packages/nipype/pipeline/engine/nodes.py:1313\u001b[0m, in \u001b[0;36mMapNode._check_iterfield\u001b[0;34m(self)\u001b[0m\n\u001b[1;32m   1311\u001b[0m \u001b[38;5;28;01mfor\u001b[39;00m iterfield \u001b[38;5;129;01min\u001b[39;00m \u001b[38;5;28mself\u001b[39m\u001b[38;5;241m.\u001b[39miterfield:\n\u001b[1;32m   1312\u001b[0m     \u001b[38;5;28;01mif\u001b[39;00m \u001b[38;5;129;01mnot\u001b[39;00m isdefined(\u001b[38;5;28mgetattr\u001b[39m(\u001b[38;5;28mself\u001b[39m\u001b[38;5;241m.\u001b[39minputs, iterfield)):\n\u001b[0;32m-> 1313\u001b[0m         \u001b[38;5;28;01mraise\u001b[39;00m \u001b[38;5;167;01mValueError\u001b[39;00m(\n\u001b[1;32m   1314\u001b[0m             (\u001b[38;5;124m\"\u001b[39m\u001b[38;5;124mInput \u001b[39m\u001b[38;5;132;01m%s\u001b[39;00m\u001b[38;5;124m was not set but it is listed \u001b[39m\u001b[38;5;124m\"\u001b[39m \u001b[38;5;124m\"\u001b[39m\u001b[38;5;124min iterfields.\u001b[39m\u001b[38;5;124m\"\u001b[39m)\n\u001b[1;32m   1315\u001b[0m             \u001b[38;5;241m%\u001b[39m iterfield\n\u001b[1;32m   1316\u001b[0m         )\n\u001b[1;32m   1317\u001b[0m \u001b[38;5;28;01mif\u001b[39;00m \u001b[38;5;28mlen\u001b[39m(\u001b[38;5;28mself\u001b[39m\u001b[38;5;241m.\u001b[39miterfield) \u001b[38;5;241m>\u001b[39m \u001b[38;5;241m1\u001b[39m:\n\u001b[1;32m   1318\u001b[0m     first_len \u001b[38;5;241m=\u001b[39m \u001b[38;5;28mlen\u001b[39m(ensure_list(\u001b[38;5;28mgetattr\u001b[39m(\u001b[38;5;28mself\u001b[39m\u001b[38;5;241m.\u001b[39minputs, \u001b[38;5;28mself\u001b[39m\u001b[38;5;241m.\u001b[39miterfield[\u001b[38;5;241m0\u001b[39m])))\n",
      "\u001b[0;31mValueError\u001b[0m: Input in_file was not set but it is listed in iterfields."
     ]
    }
   ],
   "source": [
    "trim.run()"
   ]
  },
  {
   "cell_type": "markdown",
   "id": "21e5e105-e020-4164-b9da-b197c68ef57e",
   "metadata": {},
   "source": [
    "# ======================================================================\n",
    "# DEFINE NODE: LEAVE-ONE-RUN-OUT SELECTION OF DATA\n",
    "# ======================================================================"
   ]
  },
  {
   "cell_type": "code",
   "execution_count": 323,
   "id": "f4371bac-0d9a-40e7-b249-cdcb88914650",
   "metadata": {},
   "outputs": [],
   "source": [
    "leave_one_run_out = Node(Function(\n",
    "    input_names=['subject_info', 'event_names', 'data_func', 'run'],\n",
    "    output_names=['subject_info', 'data_func', 'contrasts'],\n",
    "    function=leave_one_out),\n",
    "    name='leave_one_run_out')\n",
    "# define the number of rows as an iterable:\n",
    "leave_one_run_out.iterables = ('run', range(num_runs))\n",
    "\n",
    "\n"
   ]
  },
  {
   "cell_type": "code",
   "execution_count": null,
   "id": "7a5ace6e-4be4-4dd3-9911-5d741b49f259",
   "metadata": {},
   "outputs": [],
   "source": [
    "# connect regressors to the subsetting node::\n",
    "l1pipeline.connect(subject_info, 'subject_info', leave_one_run_out, 'subject_info')\n",
    "# connect event_names to the subsetting node:\n",
    "l1pipeline.connect(subject_info, 'event_names', leave_one_run_out, 'event_names')\n",
    "# connect smoothed and trimmed data to subsetting node:\n",
    "l1pipeline.connect(trim, 'roi_file', leave_one_run_out, 'data_func')"
   ]
  },
  {
   "cell_type": "code",
   "execution_count": null,
   "id": "ae7f57a5-9e32-4d87-b9f0-06149a073786",
   "metadata": {},
   "outputs": [],
   "source": [
    "subject_info = subject_info_results.outputs\n",
    "event_names = subject_info_results.outputs.event_names\n",
    "data_func = \n",
    "run = 2\n"
   ]
  },
  {
   "cell_type": "code",
   "execution_count": 281,
   "id": "a0dbb19f-a7f0-414f-9824-f2149fd7d7d6",
   "metadata": {},
   "outputs": [
    {
     "data": {
      "text/plain": [
       "[['correct_rejection', 'false_alarm', 'hit', 'miss'],\n",
       " ['correct_rejection', 'false_alarm', 'hit', 'miss']]"
      ]
     },
     "execution_count": 281,
     "metadata": {},
     "output_type": "execute_result"
    }
   ],
   "source": [
    "subject_info_results.outputs.event_names"
   ]
  },
  {
   "cell_type": "code",
   "execution_count": null,
   "id": "3042a498-2780-415d-a59f-94814e752dcf",
   "metadata": {},
   "outputs": [],
   "source": [
    "def leave_one_out(subject_info, event_names, data_func, run):\n",
    "    # create new list with event_names of all runs except current run:\n",
    "    event_names = [info for i, info in enumerate(event_names) if i != run]\n",
    "    num_events = [len(i) for i in event_names]\n",
    "    max_events = event_names[num_events.index(max(num_events))]\n",
    "\n",
    "    # create list of contrasts:\n",
    "    stim = 'correct_rejection'\n",
    "    contrast1 = (stim, 'T', max_events, [1 if stim in s else 0 for s in max_events])\n",
    "    contrasts = [contrast1]\n",
    "\n",
    "    # create new list with subject info of all runs except current run:\n",
    "    subject_info = [info for i, info in enumerate(subject_info) if i != run]\n",
    "    # create new list with functional data of all runs except current run:\n",
    "    data_func = [info for i, info in enumerate(data_func) if i != run]\n",
    "\n",
    "    # return the new lists\n",
    "    return subject_info, data_func, contrasts\n"
   ]
  },
  {
   "cell_type": "markdown",
   "id": "c9e86a92-167c-4b29-bc86-444d01c12afa",
   "metadata": {},
   "source": [
    "# ======================================================================\n",
    "# DEFINE NODE: SPECIFY SPM MODEL (GENERATE SPM-SPECIFIC MODEL)\n",
    "# ======================================================================"
   ]
  },
  {
   "cell_type": "code",
   "execution_count": 232,
   "id": "3c1f370b-2d4f-4ba2-94d7-d3f5b709db45",
   "metadata": {},
   "outputs": [],
   "source": [
    "# function: makes a model specification compatible with spm designers\n",
    "# adds SPM specific options to SpecifyModel\n",
    "l1model = Node(SpecifySPMModel(), name=\"l1model\")\n",
    "# input: concatenate runs to a single session (boolean, default: False):\n",
    "l1model.inputs.concatenate_runs = False\n",
    "# input: units of event onsets and durations (secs or scans):\n",
    "l1model.inputs.input_units = 'secs'\n",
    "# input: units of design event onsets and durations (secs or scans):\n",
    "l1model.inputs.output_units = 'secs'\n",
    "# input: time of repetition (a float):\n",
    "l1model.inputs.time_repetition = time_repetition\n",
    "# high-pass filter cutoff in secs (a float, default = 128 secs):\n",
    "l1model.inputs.high_pass_filter_cutoff = 128"
   ]
  },
  {
   "cell_type": "markdown",
   "id": "6f8c588e-c1cf-43ec-a129-f2c7bc8addaf",
   "metadata": {},
   "source": [
    "# ======================================================================\n",
    "# DEFINE NODE: LEVEL 1 DESIGN (GENERATE AN SPM DESIGN MATRIX)\n",
    "# ======================================================================"
   ]
  },
  {
   "cell_type": "code",
   "execution_count": 233,
   "id": "c3fe124b-2d0d-453e-8d8d-7d5871fbff5e",
   "metadata": {},
   "outputs": [],
   "source": [
    "# function: generate an SPM design matrix\n",
    "l1design = Node(Level1Design(), name=\"l1design\")\n",
    "# input: (a dictionary with keys which are 'hrf' or 'fourier' or\n",
    "# 'fourier_han' or 'gamma' or 'fir' and with values which are any value)\n",
    "l1design.inputs.bases = {'hrf': {'derivs': [0, 0]}} #???\n",
    "# input: units for specification of onsets ('secs' or 'scans'):\n",
    "l1design.inputs.timing_units = 'secs'\n",
    "# input: interscan interval / repetition time in secs (a float):\n",
    "l1design.inputs.interscan_interval = time_repetition\n",
    "# input: Model serial correlations AR(1), FAST or none:\n",
    "l1design.inputs.model_serial_correlations = 'AR(1)'\n",
    "# input: number of time-bins per scan in secs (an integer):???\n",
    "l1design.inputs.microtime_resolution = 16\n",
    "# input: the onset/time-bin in seconds for alignment (a float):???\n",
    "l1design.inputs.microtime_onset = 1\n",
    "# set expected thread and memory usage for the node:\n",
    "l1design.interface.num_threads = 1\n",
    "l1design.interface.mem_gb = 2"
   ]
  },
  {
   "cell_type": "markdown",
   "id": "666a7109-65bb-493c-8b99-b5c3d3c4aa37",
   "metadata": {},
   "source": [
    "# ======================================================================\n",
    "# DEFINE NODE: ESTIMATE MODEL (ESTIMATE THE PARAMETERS OF THE MODEL)\n",
    "# ======================================================================"
   ]
  },
  {
   "cell_type": "code",
   "execution_count": 234,
   "id": "e39027f9-4752-4783-a0a6-ea78bd647fc5",
   "metadata": {},
   "outputs": [],
   "source": [
    "# function: use spm_spm to estimate the parameters of a model\n",
    "l1estimate = Node(EstimateModel(), name=\"l1estimate\")\n",
    "# input: (a dictionary with keys which are 'Classical' or 'Bayesian2'\n",
    "# or 'Bayesian' and with values which are any value)\n",
    "l1estimate.inputs.estimation_method = {'Classical': 1}\n",
    "# set expected thread and memory usage for the node:\n",
    "l1estimate.interface.num_threads = 1\n",
    "l1estimate.interface.mem_gb = 2"
   ]
  },
  {
   "cell_type": "markdown",
   "id": "a6a86b67-e8c2-43a9-9f4d-ab922bb2a871",
   "metadata": {},
   "source": [
    "# ======================================================================\n",
    "# DEFINE NODE: ESTIMATE CONTRASTS (ESTIMATES THE CONTRASTS)\n",
    "# ======================================================================"
   ]
  },
  {
   "cell_type": "code",
   "execution_count": 235,
   "id": "c74c9c69-8539-462e-b571-5a252b0bd02a",
   "metadata": {},
   "outputs": [],
   "source": [
    "# function: use spm_contrasts to estimate contrasts of interest\n",
    "l1contrasts = Node(EstimateContrast(), name=\"l1contrasts\")\n",
    "# input: list of contrasts with each contrast being a list of the form:\n",
    "# [('name', 'stat', [condition list], [weight list], [session list])]:\n",
    "# l1contrasts.inputs.contrasts = l1contrasts_list\n",
    "# node input: overwrite previous results:\n",
    "l1contrasts.overwrite = True\n",
    "# set expected thread and memory usage for the node:\n",
    "l1contrasts.interface.num_threads = 1\n",
    "l1contrasts.interface.mem_gb = 1.5"
   ]
  },
  {
   "cell_type": "markdown",
   "id": "52c6a22b-ae41-4a4f-bbd4-db642df9598f",
   "metadata": {},
   "source": [
    "# ======================================================================\n",
    "# DEFINE NODE: FUNCTION TO PLOT CONTRASTS\n",
    "# ======================================================================"
   ]
  },
  {
   "cell_type": "code",
   "execution_count": 236,
   "id": "576c99eb-bdbd-4909-8aae-7ef674307896",
   "metadata": {},
   "outputs": [],
   "source": [
    "plot_contrasts = MapNode(Function(\n",
    "    input_names=['anat', 'stat_map', 'thresh'],\n",
    "    output_names=['out_path'],\n",
    "    function=plot_stat_maps),\n",
    "    name='plot_contrasts', iterfield=['thresh'])\n",
    "# input: plot data with set of different thresholds:\n",
    "plot_contrasts.inputs.thresh = [None, 1, 2, 3]\n",
    "# set expected thread and memory usage for the node:\n",
    "plot_contrasts.interface.num_threads = 1\n",
    "plot_contrasts.interface.mem_gb = 0.2"
   ]
  },
  {
   "cell_type": "markdown",
   "id": "4c4425b9-f145-40e5-8ddf-922c73c7d678",
   "metadata": {},
   "source": [
    "# ======================================================================\n",
    "# DEFINE NODE: THRESHOLD\n",
    "# ======================================================================"
   ]
  },
  {
   "cell_type": "code",
   "execution_count": 237,
   "id": "f263f6b1-acef-4e02-8a64-3741ac124f11",
   "metadata": {},
   "outputs": [],
   "source": [
    "# function: Topological FDR thresholding based on cluster extent/size.\n",
    "# Smoothness is estimated from GLM residuals but is assumed to be the\n",
    "# same for all of the voxels.\n",
    "thresh = Node(Threshold(), name=\"thresh\")\n",
    "# input: whether to use FWE (Bonferroni) correction for initial threshold\n",
    "# (a boolean, nipype default value: True):\n",
    "thresh.inputs.use_fwe_correction = False\n",
    "# input: whether to use FDR over cluster extent probabilities (boolean)\n",
    "thresh.inputs.use_topo_fdr = True\n",
    " # input: value for initial thresholding (defining clusters):\n",
    "thresh.inputs.height_threshold = 0.05\n",
    "# input: is the cluster forming threshold a stat value or p-value?\n",
    "# ('p-value' or 'stat', nipype default value: p-value):\n",
    "thresh.inputs.height_threshold_type = 'p-value'\n",
    "# input: which contrast in the SPM.mat to use (an integer):\n",
    "thresh.inputs.contrast_index = 1\n",
    "# input: p threshold on FDR corrected cluster size probabilities (float):\n",
    "thresh.inputs.extent_fdr_p_threshold = 0.05\n",
    "# input: minimum cluster size in voxels (an integer, default = 0):\n",
    "thresh.inputs.extent_threshold = 0\n",
    "# set expected thread and memory usage for the node:\n",
    "thresh.interface.num_threads = 1\n",
    "thresh.interface.mem_gb = 0.2"
   ]
  },
  {
   "cell_type": "markdown",
   "id": "22cf28a0-9de4-4ae7-9b14-9459b7236622",
   "metadata": {},
   "source": [
    "# ======================================================================\n",
    "# DEFINE NODE: THRESHOLD STATISTICS\n",
    "# ======================================================================"
   ]
  },
  {
   "cell_type": "code",
   "execution_count": 328,
   "id": "76a4d5fe-78c3-442d-9224-7ef90d5e2d89",
   "metadata": {},
   "outputs": [],
   "source": [
    "# function: Given height and cluster size threshold calculate\n",
    "# theoretical probabilities concerning false positives\n",
    "thresh_stat = Node(ThresholdStatistics(), name=\"thresh_stat\")\n",
    "# input: which contrast in the SPM.mat to use (an integer):\n",
    "thresh_stat.inputs.contrast_index = 1"
   ]
  },
  {
   "cell_type": "markdown",
   "id": "9eea8586-edca-44c2-b2f9-dc5e0b37b50f",
   "metadata": {},
   "source": [
    "# ======================================================================\n",
    "# CREATE DATASINK NODE (OUTPUT STREAM):\n",
    "# ======================================================================"
   ]
  },
  {
   "cell_type": "code",
   "execution_count": 326,
   "id": "8b2eb0a8-dfb1-446c-b524-8f08b26781de",
   "metadata": {},
   "outputs": [],
   "source": [
    "# create a node of the function:\n",
    "l1datasink = Node(DataSink(), name='datasink')\n",
    "# assign the path to the base directory:\n",
    "l1datasink.inputs.base_directory = opj(path_root, 'l1pipeline')\n",
    "# create a list of substitutions to adjust the file paths of datasink:\n",
    "substitutions = [('_subject_id_', '')]\n",
    "# assign the substitutions to the datasink command:\n",
    "l1datasink.inputs.substitutions = substitutions\n",
    "# determine whether to store output in parameterized form:\n",
    "l1datasink.inputs.parameterization = True\n",
    "# set expected thread and memory usage for the node:\n",
    "l1datasink.interface.num_threads = 1\n",
    "l1datasink.interface.mem_gb = 0.2"
   ]
  },
  {
   "cell_type": "markdown",
   "id": "a63148b1-54bb-4e10-9e9c-f94650544d6b",
   "metadata": {},
   "source": [
    "# ======================================================================\n",
    "# DEFINE THE LEVEL 1 ANALYSIS SUB-WORKFLOW AND CONNECT THE NODES:\n",
    "# ======================================================================"
   ]
  },
  {
   "cell_type": "code",
   "execution_count": 240,
   "id": "ec6628f5-0776-4944-87b6-6c9482441332",
   "metadata": {},
   "outputs": [],
   "source": [
    "# initiation of the 1st-level analysis workflow:\n",
    "l1analysis = Workflow(name='l1analysis')\n",
    "# connect the 1st-level analysis components\n",
    "l1analysis.connect(l1model, 'session_info', l1design, 'session_info')\n",
    "l1analysis.connect(l1design, 'spm_mat_file', l1estimate, 'spm_mat_file')\n",
    "l1analysis.connect(l1estimate, 'spm_mat_file', l1contrasts, 'spm_mat_file')\n",
    "l1analysis.connect(l1estimate, 'beta_images', l1contrasts, 'beta_images')\n",
    "l1analysis.connect(l1estimate, 'residual_image', l1contrasts, 'residual_image')"
   ]
  },
  {
   "cell_type": "markdown",
   "id": "9d74f8cc-00b9-464e-a960-e17be53c842a",
   "metadata": {},
   "source": [
    "# ======================================================================\n",
    "# ENABLE LOGGING:\n",
    "# ======================================================================"
   ]
  },
  {
   "cell_type": "code",
   "execution_count": 330,
   "id": "761d1a20-1e3e-4e30-89a9-cbcf5a8a19af",
   "metadata": {},
   "outputs": [],
   "source": [
    "# initiation of the 1st-level analysis workflow:\n",
    "l1pipeline = Workflow(name='l1pipeline')\n",
    "# stop execution of the workflow if an error is encountered:\n",
    "l1pipeline.config = {'execution': {'stop_on_first_crash': True,\n",
    "                                   'hash_method': 'timestamp'}}\n",
    "# define the base directory of the workflow:\n",
    "l1pipeline.base_dir = opj(path_root, 'work')"
   ]
  },
  {
   "cell_type": "markdown",
   "id": "a13f2cfa-5722-4bf8-b30c-f35dc794d47b",
   "metadata": {},
   "source": [
    "# ======================================================================\n",
    "# CONNECT WORKFLOW NODES:\n",
    "# ======================================================================"
   ]
  },
  {
   "cell_type": "code",
   "execution_count": 331,
   "id": "4477d6d6-0bd7-4dba-aca6-fbcc393d95ea",
   "metadata": {},
   "outputs": [],
   "source": [
    "# connect infosource to selectfiles node:\n",
    "l1pipeline.connect(infosource, 'subject_id', selectfiles, 'subject_id')\n",
    "# generate subject specific events and regressors to subject_info:\n",
    "l1pipeline.connect(selectfiles, 'events', subject_info, 'events')\n",
    "l1pipeline.connect(selectfiles, 'confounds', subject_info, 'confounds')\n",
    "# connect functional files to smoothing workflow:\n",
    "l1pipeline.connect(selectfiles, 'func', susan, 'inputnode.in_files')\n",
    "l1pipeline.connect(selectfiles, 'wholemask', susan, 'inputnode.mask_file')\n",
    "l1pipeline.connect(susan, 'outputnode.smoothed_files', l1datasink, 'smooth')\n",
    "# connect smoothed functional data to the trimming node:\n",
    "l1pipeline.connect(susan, 'outputnode.smoothed_files', trim, 'in_file')"
   ]
  },
  {
   "cell_type": "code",
   "execution_count": 243,
   "id": "4ceca832-723a-404f-8cd8-f113321d13de",
   "metadata": {},
   "outputs": [
    {
     "name": "stdout",
     "output_type": "stream",
     "text": [
      "220623-23:06:39,694 nipype.workflow INFO:\n",
      "\t Workflow l1pipeline settings: ['check', 'execution', 'logging', 'monitoring']\n",
      "220623-23:06:39,706 nipype.workflow INFO:\n",
      "\t Running serially.\n",
      "220623-23:06:39,707 nipype.workflow INFO:\n",
      "\t [Node] Setting-up \"l1pipeline.selectfiles\" in \"/tmp/tmpzo24ls6q/selectfiles\".\n",
      "220623-23:06:39,708 nipype.workflow INFO:\n",
      "\t [Node] Outdated cache found for \"l1pipeline.selectfiles\".\n",
      "220623-23:06:39,710 nipype.workflow INFO:\n",
      "\t [Node] Executing \"selectfiles\" <nipype.interfaces.io.SelectFiles>\n",
      "220623-23:06:39,713 nipype.workflow INFO:\n",
      "\t [Node] Finished \"selectfiles\", elapsed time 0.001894s.\n",
      "220623-23:06:39,732 nipype.workflow INFO:\n",
      "\t [Node] \"l1pipeline.subject_info\" found cached.\n",
      "220623-23:06:39,738 nipype.workflow INFO:\n",
      "\t [Node] Setting-up \"_median0\" in \"/home/user01/fMRIreplay_hq/work/l1pipeline/susan_smooth/_subject_id_sub-04/median/mapflow/_median0\".\n",
      "220623-23:06:39,741 nipype.workflow INFO:\n",
      "\t [Node] Executing \"_median0\" <nipype.interfaces.fsl.utils.ImageStats>\n",
      "220623-23:06:39,742 nipype.workflow INFO:\n",
      "\t [Node] Finished \"_median0\", elapsed time 0.000424s.\n",
      "220623-23:06:39,743 nipype.workflow WARNING:\n",
      "\t Storing result file without outputs\n",
      "220623-23:06:39,744 nipype.workflow WARNING:\n",
      "\t [Node] Error on \"_median0\" (/home/user01/fMRIreplay_hq/work/l1pipeline/susan_smooth/_subject_id_sub-04/median/mapflow/_median0)\n",
      "220623-23:06:39,745 nipype.workflow WARNING:\n",
      "\t Storing result file without outputs\n",
      "220623-23:06:39,745 nipype.workflow WARNING:\n",
      "\t [Node] Error on \"l1pipeline.susan_smooth.median\" (/home/user01/fMRIreplay_hq/work/l1pipeline/susan_smooth/_subject_id_sub-04/median)\n",
      "220623-23:06:39,747 nipype.workflow ERROR:\n",
      "\t Node median.a0 failed to run on host liulabPriv.\n",
      "220623-23:06:39,747 nipype.workflow ERROR:\n",
      "\t Saving crash info to /home/user01/fMRIreplay_hq/fmrireplay-bids/BIDS/code/GLM/crash-20220623-230639-user01-median.a0-380a5cba-17c0-4660-b5a7-b1be678125db.pklz\n",
      "Traceback (most recent call last):\n",
      "  File \"/home/liulab/anaconda3/envs/huangqi_fmriprep/lib/python3.8/site-packages/nipype/pipeline/plugins/linear.py\", line 47, in run\n",
      "    node.run(updatehash=updatehash)\n",
      "  File \"/home/liulab/anaconda3/envs/huangqi_fmriprep/lib/python3.8/site-packages/nipype/pipeline/engine/nodes.py\", line 524, in run\n",
      "    result = self._run_interface(execute=True)\n",
      "  File \"/home/liulab/anaconda3/envs/huangqi_fmriprep/lib/python3.8/site-packages/nipype/pipeline/engine/nodes.py\", line 1361, in _run_interface\n",
      "    result = self._collate_results(\n",
      "  File \"/home/liulab/anaconda3/envs/huangqi_fmriprep/lib/python3.8/site-packages/nipype/pipeline/engine/nodes.py\", line 1230, in _collate_results\n",
      "    for i, nresult, err in nodes:\n",
      "  File \"/home/liulab/anaconda3/envs/huangqi_fmriprep/lib/python3.8/site-packages/nipype/pipeline/engine/utils.py\", line 94, in nodelist_runner\n",
      "    result = node.run(updatehash=updatehash)\n",
      "  File \"/home/liulab/anaconda3/envs/huangqi_fmriprep/lib/python3.8/site-packages/nipype/pipeline/engine/nodes.py\", line 524, in run\n",
      "    result = self._run_interface(execute=True)\n",
      "  File \"/home/liulab/anaconda3/envs/huangqi_fmriprep/lib/python3.8/site-packages/nipype/pipeline/engine/nodes.py\", line 642, in _run_interface\n",
      "    return self._run_command(execute)\n",
      "  File \"/home/liulab/anaconda3/envs/huangqi_fmriprep/lib/python3.8/site-packages/nipype/pipeline/engine/nodes.py\", line 750, in _run_command\n",
      "    raise NodeExecutionError(\n",
      "nipype.pipeline.engine.nodes.NodeExecutionError: Exception raised while executing Node _median0.\n",
      "\n",
      "Traceback (most recent call last):\n",
      "  File \"/home/liulab/anaconda3/envs/huangqi_fmriprep/lib/python3.8/site-packages/nipype/interfaces/base/core.py\", line 398, in run\n",
      "    runtime = self._run_interface(runtime)\n",
      "  File \"/home/liulab/anaconda3/envs/huangqi_fmriprep/lib/python3.8/site-packages/nipype/interfaces/base/core.py\", line 753, in _run_interface\n",
      "    raise IOError(\n",
      "OSError: No command \"fslstats\" found on host liulabPriv. Please check that the corresponding package is installed.\n",
      "\n",
      "\n",
      "220623-23:06:39,748 nipype.workflow INFO:\n",
      "\t ***********************************\n",
      "220623-23:06:39,749 nipype.workflow ERROR:\n",
      "\t could not run node: l1pipeline.susan_smooth.median.a0\n",
      "220623-23:06:39,749 nipype.workflow INFO:\n",
      "\t crashfile: /home/user01/fMRIreplay_hq/fmrireplay-bids/BIDS/code/GLM/crash-20220623-230639-user01-median.a0-380a5cba-17c0-4660-b5a7-b1be678125db.pklz\n",
      "220623-23:06:39,750 nipype.workflow INFO:\n",
      "\t ***********************************\n"
     ]
    },
    {
     "ename": "NodeExecutionError",
     "evalue": "Exception raised while executing Node _median0.\n\nTraceback (most recent call last):\n  File \"/home/liulab/anaconda3/envs/huangqi_fmriprep/lib/python3.8/site-packages/nipype/interfaces/base/core.py\", line 398, in run\n    runtime = self._run_interface(runtime)\n  File \"/home/liulab/anaconda3/envs/huangqi_fmriprep/lib/python3.8/site-packages/nipype/interfaces/base/core.py\", line 753, in _run_interface\n    raise IOError(\nOSError: No command \"fslstats\" found on host liulabPriv. Please check that the corresponding package is installed.\n",
     "output_type": "error",
     "traceback": [
      "\u001b[0;31m---------------------------------------------------------------------------\u001b[0m",
      "\u001b[0;31mNodeExecutionError\u001b[0m                        Traceback (most recent call last)",
      "Input \u001b[0;32mIn [243]\u001b[0m, in \u001b[0;36m<cell line: 1>\u001b[0;34m()\u001b[0m\n\u001b[0;32m----> 1\u001b[0m \u001b[43ml1pipeline\u001b[49m\u001b[38;5;241;43m.\u001b[39;49m\u001b[43mrun\u001b[49m\u001b[43m(\u001b[49m\u001b[43m)\u001b[49m\n",
      "File \u001b[0;32m/home/liulab/anaconda3/envs/huangqi_fmriprep/lib/python3.8/site-packages/nipype/pipeline/engine/workflows.py:638\u001b[0m, in \u001b[0;36mWorkflow.run\u001b[0;34m(self, plugin, plugin_args, updatehash)\u001b[0m\n\u001b[1;32m    636\u001b[0m \u001b[38;5;28;01mif\u001b[39;00m str2bool(\u001b[38;5;28mself\u001b[39m\u001b[38;5;241m.\u001b[39mconfig[\u001b[38;5;124m\"\u001b[39m\u001b[38;5;124mexecution\u001b[39m\u001b[38;5;124m\"\u001b[39m][\u001b[38;5;124m\"\u001b[39m\u001b[38;5;124mcreate_report\u001b[39m\u001b[38;5;124m\"\u001b[39m]):\n\u001b[1;32m    637\u001b[0m     \u001b[38;5;28mself\u001b[39m\u001b[38;5;241m.\u001b[39m_write_report_info(\u001b[38;5;28mself\u001b[39m\u001b[38;5;241m.\u001b[39mbase_dir, \u001b[38;5;28mself\u001b[39m\u001b[38;5;241m.\u001b[39mname, execgraph)\n\u001b[0;32m--> 638\u001b[0m \u001b[43mrunner\u001b[49m\u001b[38;5;241;43m.\u001b[39;49m\u001b[43mrun\u001b[49m\u001b[43m(\u001b[49m\u001b[43mexecgraph\u001b[49m\u001b[43m,\u001b[49m\u001b[43m \u001b[49m\u001b[43mupdatehash\u001b[49m\u001b[38;5;241;43m=\u001b[39;49m\u001b[43mupdatehash\u001b[49m\u001b[43m,\u001b[49m\u001b[43m \u001b[49m\u001b[43mconfig\u001b[49m\u001b[38;5;241;43m=\u001b[39;49m\u001b[38;5;28;43mself\u001b[39;49m\u001b[38;5;241;43m.\u001b[39;49m\u001b[43mconfig\u001b[49m\u001b[43m)\u001b[49m\n\u001b[1;32m    639\u001b[0m datestr \u001b[38;5;241m=\u001b[39m datetime\u001b[38;5;241m.\u001b[39mutcnow()\u001b[38;5;241m.\u001b[39mstrftime(\u001b[38;5;124m\"\u001b[39m\u001b[38;5;124m%\u001b[39m\u001b[38;5;124mY\u001b[39m\u001b[38;5;124m%\u001b[39m\u001b[38;5;124mm\u001b[39m\u001b[38;5;132;01m%d\u001b[39;00m\u001b[38;5;124mT\u001b[39m\u001b[38;5;124m%\u001b[39m\u001b[38;5;124mH\u001b[39m\u001b[38;5;124m%\u001b[39m\u001b[38;5;124mM\u001b[39m\u001b[38;5;124m%\u001b[39m\u001b[38;5;124mS\u001b[39m\u001b[38;5;124m\"\u001b[39m)\n\u001b[1;32m    640\u001b[0m \u001b[38;5;28;01mif\u001b[39;00m str2bool(\u001b[38;5;28mself\u001b[39m\u001b[38;5;241m.\u001b[39mconfig[\u001b[38;5;124m\"\u001b[39m\u001b[38;5;124mexecution\u001b[39m\u001b[38;5;124m\"\u001b[39m][\u001b[38;5;124m\"\u001b[39m\u001b[38;5;124mwrite_provenance\u001b[39m\u001b[38;5;124m\"\u001b[39m]):\n",
      "File \u001b[0;32m/home/liulab/anaconda3/envs/huangqi_fmriprep/lib/python3.8/site-packages/nipype/pipeline/plugins/linear.py:82\u001b[0m, in \u001b[0;36mLinearPlugin.run\u001b[0;34m(self, graph, config, updatehash)\u001b[0m\n\u001b[1;32m     76\u001b[0m \u001b[38;5;28;01mif\u001b[39;00m \u001b[38;5;28mlen\u001b[39m(errors) \u001b[38;5;241m>\u001b[39m \u001b[38;5;241m1\u001b[39m:\n\u001b[1;32m     77\u001b[0m     error, cause \u001b[38;5;241m=\u001b[39m (\n\u001b[1;32m     78\u001b[0m         \u001b[38;5;167;01mRuntimeError\u001b[39;00m(\u001b[38;5;124mf\u001b[39m\u001b[38;5;124m\"\u001b[39m\u001b[38;5;132;01m{\u001b[39;00m\u001b[38;5;28mlen\u001b[39m(errors)\u001b[38;5;132;01m}\u001b[39;00m\u001b[38;5;124m raised. Re-raising first.\u001b[39m\u001b[38;5;124m\"\u001b[39m),\n\u001b[1;32m     79\u001b[0m         error,\n\u001b[1;32m     80\u001b[0m     )\n\u001b[0;32m---> 82\u001b[0m \u001b[38;5;28;01mraise\u001b[39;00m error \u001b[38;5;28;01mfrom\u001b[39;00m \u001b[38;5;21;01mcause\u001b[39;00m\n",
      "File \u001b[0;32m/home/liulab/anaconda3/envs/huangqi_fmriprep/lib/python3.8/site-packages/nipype/pipeline/plugins/linear.py:47\u001b[0m, in \u001b[0;36mLinearPlugin.run\u001b[0;34m(self, graph, config, updatehash)\u001b[0m\n\u001b[1;32m     45\u001b[0m     \u001b[38;5;28;01mif\u001b[39;00m \u001b[38;5;28mself\u001b[39m\u001b[38;5;241m.\u001b[39m_status_callback:\n\u001b[1;32m     46\u001b[0m         \u001b[38;5;28mself\u001b[39m\u001b[38;5;241m.\u001b[39m_status_callback(node, \u001b[38;5;124m\"\u001b[39m\u001b[38;5;124mstart\u001b[39m\u001b[38;5;124m\"\u001b[39m)\n\u001b[0;32m---> 47\u001b[0m     \u001b[43mnode\u001b[49m\u001b[38;5;241;43m.\u001b[39;49m\u001b[43mrun\u001b[49m\u001b[43m(\u001b[49m\u001b[43mupdatehash\u001b[49m\u001b[38;5;241;43m=\u001b[39;49m\u001b[43mupdatehash\u001b[49m\u001b[43m)\u001b[49m\n\u001b[1;32m     48\u001b[0m \u001b[38;5;28;01mexcept\u001b[39;00m \u001b[38;5;167;01mException\u001b[39;00m \u001b[38;5;28;01mas\u001b[39;00m exc:\n\u001b[1;32m     49\u001b[0m     endstatus \u001b[38;5;241m=\u001b[39m \u001b[38;5;124m\"\u001b[39m\u001b[38;5;124mexception\u001b[39m\u001b[38;5;124m\"\u001b[39m\n",
      "File \u001b[0;32m/home/liulab/anaconda3/envs/huangqi_fmriprep/lib/python3.8/site-packages/nipype/pipeline/engine/nodes.py:524\u001b[0m, in \u001b[0;36mNode.run\u001b[0;34m(self, updatehash)\u001b[0m\n\u001b[1;32m    521\u001b[0m savepkl(op\u001b[38;5;241m.\u001b[39mjoin(outdir, \u001b[38;5;124m\"\u001b[39m\u001b[38;5;124m_inputs.pklz\u001b[39m\u001b[38;5;124m\"\u001b[39m), \u001b[38;5;28mself\u001b[39m\u001b[38;5;241m.\u001b[39minputs\u001b[38;5;241m.\u001b[39mget_traitsfree())\n\u001b[1;32m    523\u001b[0m \u001b[38;5;28;01mtry\u001b[39;00m:\n\u001b[0;32m--> 524\u001b[0m     result \u001b[38;5;241m=\u001b[39m \u001b[38;5;28;43mself\u001b[39;49m\u001b[38;5;241;43m.\u001b[39;49m\u001b[43m_run_interface\u001b[49m\u001b[43m(\u001b[49m\u001b[43mexecute\u001b[49m\u001b[38;5;241;43m=\u001b[39;49m\u001b[38;5;28;43;01mTrue\u001b[39;49;00m\u001b[43m)\u001b[49m\n\u001b[1;32m    525\u001b[0m \u001b[38;5;28;01mexcept\u001b[39;00m \u001b[38;5;167;01mException\u001b[39;00m:\n\u001b[1;32m    526\u001b[0m     logger\u001b[38;5;241m.\u001b[39mwarning(\u001b[38;5;124m'\u001b[39m\u001b[38;5;124m[Node] Error on \u001b[39m\u001b[38;5;124m\"\u001b[39m\u001b[38;5;132;01m%s\u001b[39;00m\u001b[38;5;124m\"\u001b[39m\u001b[38;5;124m (\u001b[39m\u001b[38;5;132;01m%s\u001b[39;00m\u001b[38;5;124m)\u001b[39m\u001b[38;5;124m'\u001b[39m, \u001b[38;5;28mself\u001b[39m\u001b[38;5;241m.\u001b[39mfullname, outdir)\n",
      "File \u001b[0;32m/home/liulab/anaconda3/envs/huangqi_fmriprep/lib/python3.8/site-packages/nipype/pipeline/engine/nodes.py:1361\u001b[0m, in \u001b[0;36mMapNode._run_interface\u001b[0;34m(self, execute, updatehash)\u001b[0m\n\u001b[1;32m   1350\u001b[0m result \u001b[38;5;241m=\u001b[39m InterfaceResult(\n\u001b[1;32m   1351\u001b[0m     interface\u001b[38;5;241m=\u001b[39m\u001b[38;5;28mself\u001b[39m\u001b[38;5;241m.\u001b[39m_interface\u001b[38;5;241m.\u001b[39m\u001b[38;5;18m__class__\u001b[39m,\n\u001b[1;32m   1352\u001b[0m     runtime\u001b[38;5;241m=\u001b[39mBunch(\n\u001b[0;32m   (...)\u001b[0m\n\u001b[1;32m   1358\u001b[0m     inputs\u001b[38;5;241m=\u001b[39m\u001b[38;5;28mself\u001b[39m\u001b[38;5;241m.\u001b[39m_interface\u001b[38;5;241m.\u001b[39minputs\u001b[38;5;241m.\u001b[39mget_traitsfree(),\n\u001b[1;32m   1359\u001b[0m )\n\u001b[1;32m   1360\u001b[0m \u001b[38;5;28;01mtry\u001b[39;00m:\n\u001b[0;32m-> 1361\u001b[0m     result \u001b[38;5;241m=\u001b[39m \u001b[38;5;28;43mself\u001b[39;49m\u001b[38;5;241;43m.\u001b[39;49m\u001b[43m_collate_results\u001b[49m\u001b[43m(\u001b[49m\n\u001b[1;32m   1362\u001b[0m \u001b[43m        \u001b[49m\u001b[43m_node_runner\u001b[49m\u001b[43m(\u001b[49m\n\u001b[1;32m   1363\u001b[0m \u001b[43m            \u001b[49m\u001b[38;5;28;43mself\u001b[39;49m\u001b[38;5;241;43m.\u001b[39;49m\u001b[43m_make_nodes\u001b[49m\u001b[43m(\u001b[49m\u001b[43mcwd\u001b[49m\u001b[43m)\u001b[49m\u001b[43m,\u001b[49m\n\u001b[1;32m   1364\u001b[0m \u001b[43m            \u001b[49m\u001b[43mupdatehash\u001b[49m\u001b[38;5;241;43m=\u001b[39;49m\u001b[43mupdatehash\u001b[49m\u001b[43m,\u001b[49m\n\u001b[1;32m   1365\u001b[0m \u001b[43m            \u001b[49m\u001b[43mstop_first\u001b[49m\u001b[38;5;241;43m=\u001b[39;49m\u001b[43mstr2bool\u001b[49m\u001b[43m(\u001b[49m\n\u001b[1;32m   1366\u001b[0m \u001b[43m                \u001b[49m\u001b[38;5;28;43mself\u001b[39;49m\u001b[38;5;241;43m.\u001b[39;49m\u001b[43mconfig\u001b[49m\u001b[43m[\u001b[49m\u001b[38;5;124;43m\"\u001b[39;49m\u001b[38;5;124;43mexecution\u001b[39;49m\u001b[38;5;124;43m\"\u001b[39;49m\u001b[43m]\u001b[49m\u001b[43m[\u001b[49m\u001b[38;5;124;43m\"\u001b[39;49m\u001b[38;5;124;43mstop_on_first_crash\u001b[39;49m\u001b[38;5;124;43m\"\u001b[39;49m\u001b[43m]\u001b[49m\n\u001b[1;32m   1367\u001b[0m \u001b[43m            \u001b[49m\u001b[43m)\u001b[49m\u001b[43m,\u001b[49m\n\u001b[1;32m   1368\u001b[0m \u001b[43m        \u001b[49m\u001b[43m)\u001b[49m\n\u001b[1;32m   1369\u001b[0m \u001b[43m    \u001b[49m\u001b[43m)\u001b[49m\n\u001b[1;32m   1370\u001b[0m \u001b[38;5;28;01mexcept\u001b[39;00m \u001b[38;5;167;01mException\u001b[39;00m \u001b[38;5;28;01mas\u001b[39;00m msg:\n\u001b[1;32m   1371\u001b[0m     result\u001b[38;5;241m.\u001b[39mruntime\u001b[38;5;241m.\u001b[39mstderr \u001b[38;5;241m=\u001b[39m \u001b[38;5;124m\"\u001b[39m\u001b[38;5;132;01m%s\u001b[39;00m\u001b[38;5;130;01m\\n\u001b[39;00m\u001b[38;5;130;01m\\n\u001b[39;00m\u001b[38;5;132;01m%s\u001b[39;00m\u001b[38;5;124m\"\u001b[39m\u001b[38;5;241m.\u001b[39mformat(\n\u001b[1;32m   1372\u001b[0m         \u001b[38;5;28mgetattr\u001b[39m(result\u001b[38;5;241m.\u001b[39mruntime, \u001b[38;5;124m\"\u001b[39m\u001b[38;5;124mstderr\u001b[39m\u001b[38;5;124m\"\u001b[39m, \u001b[38;5;124m\"\u001b[39m\u001b[38;5;124m\"\u001b[39m), msg\n\u001b[1;32m   1373\u001b[0m     )\n",
      "File \u001b[0;32m/home/liulab/anaconda3/envs/huangqi_fmriprep/lib/python3.8/site-packages/nipype/pipeline/engine/nodes.py:1230\u001b[0m, in \u001b[0;36mMapNode._collate_results\u001b[0;34m(self, nodes)\u001b[0m\n\u001b[1;32m   1226\u001b[0m finalresult \u001b[38;5;241m=\u001b[39m InterfaceResult(\n\u001b[1;32m   1227\u001b[0m     interface\u001b[38;5;241m=\u001b[39m[], runtime\u001b[38;5;241m=\u001b[39m[], provenance\u001b[38;5;241m=\u001b[39m[], inputs\u001b[38;5;241m=\u001b[39m[], outputs\u001b[38;5;241m=\u001b[39m\u001b[38;5;28mself\u001b[39m\u001b[38;5;241m.\u001b[39moutputs\n\u001b[1;32m   1228\u001b[0m )\n\u001b[1;32m   1229\u001b[0m returncode \u001b[38;5;241m=\u001b[39m []\n\u001b[0;32m-> 1230\u001b[0m \u001b[38;5;28;01mfor\u001b[39;00m i, nresult, err \u001b[38;5;129;01min\u001b[39;00m nodes:\n\u001b[1;32m   1231\u001b[0m     finalresult\u001b[38;5;241m.\u001b[39mruntime\u001b[38;5;241m.\u001b[39minsert(i, \u001b[38;5;28;01mNone\u001b[39;00m)\n\u001b[1;32m   1232\u001b[0m     returncode\u001b[38;5;241m.\u001b[39minsert(i, err)\n",
      "File \u001b[0;32m/home/liulab/anaconda3/envs/huangqi_fmriprep/lib/python3.8/site-packages/nipype/pipeline/engine/utils.py:94\u001b[0m, in \u001b[0;36mnodelist_runner\u001b[0;34m(nodes, updatehash, stop_first)\u001b[0m\n\u001b[1;32m     92\u001b[0m result \u001b[38;5;241m=\u001b[39m \u001b[38;5;28;01mNone\u001b[39;00m\n\u001b[1;32m     93\u001b[0m \u001b[38;5;28;01mtry\u001b[39;00m:\n\u001b[0;32m---> 94\u001b[0m     result \u001b[38;5;241m=\u001b[39m \u001b[43mnode\u001b[49m\u001b[38;5;241;43m.\u001b[39;49m\u001b[43mrun\u001b[49m\u001b[43m(\u001b[49m\u001b[43mupdatehash\u001b[49m\u001b[38;5;241;43m=\u001b[39;49m\u001b[43mupdatehash\u001b[49m\u001b[43m)\u001b[49m\n\u001b[1;32m     95\u001b[0m \u001b[38;5;28;01mexcept\u001b[39;00m \u001b[38;5;167;01mException\u001b[39;00m:\n\u001b[1;32m     96\u001b[0m     \u001b[38;5;28;01mif\u001b[39;00m stop_first:\n",
      "File \u001b[0;32m/home/liulab/anaconda3/envs/huangqi_fmriprep/lib/python3.8/site-packages/nipype/pipeline/engine/nodes.py:524\u001b[0m, in \u001b[0;36mNode.run\u001b[0;34m(self, updatehash)\u001b[0m\n\u001b[1;32m    521\u001b[0m savepkl(op\u001b[38;5;241m.\u001b[39mjoin(outdir, \u001b[38;5;124m\"\u001b[39m\u001b[38;5;124m_inputs.pklz\u001b[39m\u001b[38;5;124m\"\u001b[39m), \u001b[38;5;28mself\u001b[39m\u001b[38;5;241m.\u001b[39minputs\u001b[38;5;241m.\u001b[39mget_traitsfree())\n\u001b[1;32m    523\u001b[0m \u001b[38;5;28;01mtry\u001b[39;00m:\n\u001b[0;32m--> 524\u001b[0m     result \u001b[38;5;241m=\u001b[39m \u001b[38;5;28;43mself\u001b[39;49m\u001b[38;5;241;43m.\u001b[39;49m\u001b[43m_run_interface\u001b[49m\u001b[43m(\u001b[49m\u001b[43mexecute\u001b[49m\u001b[38;5;241;43m=\u001b[39;49m\u001b[38;5;28;43;01mTrue\u001b[39;49;00m\u001b[43m)\u001b[49m\n\u001b[1;32m    525\u001b[0m \u001b[38;5;28;01mexcept\u001b[39;00m \u001b[38;5;167;01mException\u001b[39;00m:\n\u001b[1;32m    526\u001b[0m     logger\u001b[38;5;241m.\u001b[39mwarning(\u001b[38;5;124m'\u001b[39m\u001b[38;5;124m[Node] Error on \u001b[39m\u001b[38;5;124m\"\u001b[39m\u001b[38;5;132;01m%s\u001b[39;00m\u001b[38;5;124m\"\u001b[39m\u001b[38;5;124m (\u001b[39m\u001b[38;5;132;01m%s\u001b[39;00m\u001b[38;5;124m)\u001b[39m\u001b[38;5;124m'\u001b[39m, \u001b[38;5;28mself\u001b[39m\u001b[38;5;241m.\u001b[39mfullname, outdir)\n",
      "File \u001b[0;32m/home/liulab/anaconda3/envs/huangqi_fmriprep/lib/python3.8/site-packages/nipype/pipeline/engine/nodes.py:642\u001b[0m, in \u001b[0;36mNode._run_interface\u001b[0;34m(self, execute, updatehash)\u001b[0m\n\u001b[1;32m    640\u001b[0m     \u001b[38;5;28mself\u001b[39m\u001b[38;5;241m.\u001b[39m_update_hash()\n\u001b[1;32m    641\u001b[0m     \u001b[38;5;28;01mreturn\u001b[39;00m \u001b[38;5;28mself\u001b[39m\u001b[38;5;241m.\u001b[39m_load_results()\n\u001b[0;32m--> 642\u001b[0m \u001b[38;5;28;01mreturn\u001b[39;00m \u001b[38;5;28;43mself\u001b[39;49m\u001b[38;5;241;43m.\u001b[39;49m\u001b[43m_run_command\u001b[49m\u001b[43m(\u001b[49m\u001b[43mexecute\u001b[49m\u001b[43m)\u001b[49m\n",
      "File \u001b[0;32m/home/liulab/anaconda3/envs/huangqi_fmriprep/lib/python3.8/site-packages/nipype/pipeline/engine/nodes.py:750\u001b[0m, in \u001b[0;36mNode._run_command\u001b[0;34m(self, execute, copyfiles)\u001b[0m\n\u001b[1;32m    742\u001b[0m _save_resultfile(\n\u001b[1;32m    743\u001b[0m     result,\n\u001b[1;32m    744\u001b[0m     outdir,\n\u001b[1;32m    745\u001b[0m     \u001b[38;5;28mself\u001b[39m\u001b[38;5;241m.\u001b[39mname,\n\u001b[1;32m    746\u001b[0m     rebase\u001b[38;5;241m=\u001b[39mstr2bool(\u001b[38;5;28mself\u001b[39m\u001b[38;5;241m.\u001b[39mconfig[\u001b[38;5;124m\"\u001b[39m\u001b[38;5;124mexecution\u001b[39m\u001b[38;5;124m\"\u001b[39m][\u001b[38;5;124m\"\u001b[39m\u001b[38;5;124muse_relative_paths\u001b[39m\u001b[38;5;124m\"\u001b[39m]),\n\u001b[1;32m    747\u001b[0m )\n\u001b[1;32m    749\u001b[0m \u001b[38;5;28;01mif\u001b[39;00m exc_tb:\n\u001b[0;32m--> 750\u001b[0m     \u001b[38;5;28;01mraise\u001b[39;00m NodeExecutionError(\n\u001b[1;32m    751\u001b[0m         \u001b[38;5;124mf\u001b[39m\u001b[38;5;124m\"\u001b[39m\u001b[38;5;124mException raised while executing Node \u001b[39m\u001b[38;5;132;01m{\u001b[39;00m\u001b[38;5;28mself\u001b[39m\u001b[38;5;241m.\u001b[39mname\u001b[38;5;132;01m}\u001b[39;00m\u001b[38;5;124m.\u001b[39m\u001b[38;5;130;01m\\n\u001b[39;00m\u001b[38;5;130;01m\\n\u001b[39;00m\u001b[38;5;132;01m{\u001b[39;00mresult\u001b[38;5;241m.\u001b[39mruntime\u001b[38;5;241m.\u001b[39mtraceback\u001b[38;5;132;01m}\u001b[39;00m\u001b[38;5;124m\"\u001b[39m\n\u001b[1;32m    752\u001b[0m     )\n\u001b[1;32m    754\u001b[0m \u001b[38;5;28;01mreturn\u001b[39;00m result\n",
      "\u001b[0;31mNodeExecutionError\u001b[0m: Exception raised while executing Node _median0.\n\nTraceback (most recent call last):\n  File \"/home/liulab/anaconda3/envs/huangqi_fmriprep/lib/python3.8/site-packages/nipype/interfaces/base/core.py\", line 398, in run\n    runtime = self._run_interface(runtime)\n  File \"/home/liulab/anaconda3/envs/huangqi_fmriprep/lib/python3.8/site-packages/nipype/interfaces/base/core.py\", line 753, in _run_interface\n    raise IOError(\nOSError: No command \"fslstats\" found on host liulabPriv. Please check that the corresponding package is installed.\n"
     ]
    }
   ],
   "source": [
    "# l1pipeline.run()"
   ]
  },
  {
   "cell_type": "markdown",
   "id": "12987f94-d23a-4ef5-9216-a75445d616b0",
   "metadata": {},
   "source": [
    "# ======================================================================\n",
    "# INPUT AND OUTPUT STREAM FOR THE LEVEL 1 SPM ANALYSIS SUB-WORKFLOW:\n",
    "# ======================================================================"
   ]
  },
  {
   "cell_type": "code",
   "execution_count": 244,
   "id": "1cb9575d-c9ef-49bf-b079-60c890dd5fca",
   "metadata": {},
   "outputs": [],
   "source": [
    "# connect regressors to the subsetting node::\n",
    "l1pipeline.connect(subject_info, 'subject_info', leave_one_run_out, 'subject_info')\n",
    "# connect event_names to the subsetting node:\n",
    "l1pipeline.connect(subject_info, 'event_names', leave_one_run_out, 'event_names')\n",
    "# connect smoothed and trimmed data to subsetting node:\n",
    "l1pipeline.connect(trim, 'roi_file', leave_one_run_out, 'data_func')\n",
    "# connect regressors to the level 1 model specification node:\n",
    "l1pipeline.connect(leave_one_run_out, 'subject_info', l1analysis, 'l1model.subject_info')\n",
    "# connect smoothed and trimmed data to the level 1 model specification:\n",
    "l1pipeline.connect(leave_one_run_out, 'data_func', l1analysis, 'l1model.functional_runs')\n",
    "# connect l1 contrast specification to contrast estimation\n",
    "l1pipeline.connect(leave_one_run_out, 'contrasts', l1analysis, 'l1contrasts.contrasts')\n",
    "# connect the anatomical image to the plotting node:\n",
    "l1pipeline.connect(selectfiles, 'anat', plot_contrasts, 'anat')\n",
    "# connect spm t-images to the plotting node:\n",
    "l1pipeline.connect(l1analysis, 'l1contrasts.spmT_images', plot_contrasts, 'stat_map')\n",
    "# connect the t-images and spm mat file to the threshold node:\n",
    "l1pipeline.connect(l1analysis, 'l1contrasts.spmT_images', thresh, 'stat_image')\n",
    "l1pipeline.connect(l1analysis, 'l1contrasts.spm_mat_file', thresh, 'spm_mat_file')\n",
    "# connect all output results of the level 1 analysis to the datasink:\n",
    "l1pipeline.connect(l1analysis, 'l1estimate.beta_images', l1datasink, 'estimates.@beta_images')\n",
    "l1pipeline.connect(l1analysis, 'l1estimate.residual_image', l1datasink, 'estimates.@residual_image')\n",
    "l1pipeline.connect(l1analysis, 'l1contrasts.spm_mat_file', l1datasink, 'contrasts.@spm_mat')\n",
    "l1pipeline.connect(l1analysis, 'l1contrasts.spmT_images', l1datasink, 'contrasts.@spmT')\n",
    "l1pipeline.connect(l1analysis, 'l1contrasts.con_images', l1datasink, 'contrasts.@con')\n",
    "l1pipeline.connect(plot_contrasts, 'out_path', l1datasink, 'contrasts.@out_path')\n",
    "l1pipeline.connect(thresh, 'thresholded_map', l1datasink, 'thresh.@threshhold_map')\n",
    "l1pipeline.connect(thresh, 'pre_topo_fdr_map', l1datasink, 'thresh.@pre_topo_fdr_map')"
   ]
  },
  {
   "cell_type": "markdown",
   "id": "e40c7f45-dc06-4e01-8b7c-26ae5895386a",
   "metadata": {},
   "source": [
    "# ======================================================================\n",
    "# WRITE GRAPH AND EXECUTE THE WORKFLOW\n",
    "# ======================================================================"
   ]
  },
  {
   "cell_type": "code",
   "execution_count": 332,
   "id": "15dad2c8-734e-4cb4-ae57-134ef478c602",
   "metadata": {},
   "outputs": [
    {
     "name": "stdout",
     "output_type": "stream",
     "text": [
      "220627-00:11:37,801 nipype.workflow INFO:\n",
      "\t Generated workflow graph: /home/user01/fMRIreplay_hq/work/l1pipeline/graph.png (graph2use=colored, simple_form=True).\n",
      "220627-00:11:37,808 nipype.workflow INFO:\n",
      "\t Workflow l1pipeline settings: ['check', 'execution', 'logging', 'monitoring']\n",
      "220627-00:11:37,820 nipype.workflow INFO:\n",
      "\t Running serially.\n",
      "220627-00:11:37,822 nipype.workflow INFO:\n",
      "\t [Node] Setting-up \"l1pipeline.selectfiles\" in \"/home/user01/fMRIreplay_hq/work/l1pipeline/_subject_id_sub-04/selectfiles\".\n",
      "220627-00:11:37,824 nipype.workflow INFO:\n",
      "\t [Node] Executing \"selectfiles\" <nipype.interfaces.io.SelectFiles>\n",
      "220627-00:11:37,828 nipype.workflow INFO:\n",
      "\t [Node] Finished \"selectfiles\", elapsed time 0.002525s.\n",
      "220627-00:11:37,833 nipype.workflow INFO:\n",
      "\t [Node] Setting-up \"_subject_info0\" in \"/home/user01/fMRIreplay_hq/work/l1pipeline/_subject_id_sub-04/subject_info/mapflow/_subject_info0\".\n",
      "220627-00:11:37,835 nipype.workflow INFO:\n",
      "\t [Node] Executing \"_subject_info0\" <nipype.interfaces.utility.wrappers.Function>\n",
      "220627-00:11:37,976 nipype.workflow INFO:\n",
      "\t [Node] Finished \"_subject_info0\", elapsed time 0.139527s.\n",
      "220627-00:11:38,49 nipype.workflow INFO:\n",
      "\t [Node] Setting-up \"_subject_info1\" in \"/home/user01/fMRIreplay_hq/work/l1pipeline/_subject_id_sub-04/subject_info/mapflow/_subject_info1\".\n",
      "220627-00:11:38,52 nipype.workflow INFO:\n",
      "\t [Node] Executing \"_subject_info1\" <nipype.interfaces.utility.wrappers.Function>\n",
      "220627-00:11:38,204 nipype.workflow INFO:\n",
      "\t [Node] Finished \"_subject_info1\", elapsed time 0.151079s.\n",
      "220627-00:11:38,496 nipype.workflow INFO:\n",
      "\t [Node] Setting-up \"_median0\" in \"/home/user01/fMRIreplay_hq/work/l1pipeline/susan_smooth/_subject_id_sub-04/median/mapflow/_median0\".\n",
      "220627-00:11:38,498 nipype.workflow INFO:\n",
      "\t [Node] Executing \"_median0\" <nipype.interfaces.fsl.utils.ImageStats>\n",
      "220627-00:11:38,501 nipype.workflow INFO:\n",
      "\t [Node] Finished \"_median0\", elapsed time 0.000509s.\n",
      "220627-00:11:38,501 nipype.workflow WARNING:\n",
      "\t Storing result file without outputs\n",
      "220627-00:11:38,502 nipype.workflow WARNING:\n",
      "\t [Node] Error on \"_median0\" (/home/user01/fMRIreplay_hq/work/l1pipeline/susan_smooth/_subject_id_sub-04/median/mapflow/_median0)\n",
      "220627-00:11:38,503 nipype.workflow WARNING:\n",
      "\t Storing result file without outputs\n",
      "220627-00:11:38,504 nipype.workflow WARNING:\n",
      "\t [Node] Error on \"l1pipeline.susan_smooth.median\" (/home/user01/fMRIreplay_hq/work/l1pipeline/susan_smooth/_subject_id_sub-04/median)\n",
      "220627-00:11:38,505 nipype.workflow ERROR:\n",
      "\t Node median.a0 failed to run on host liulabPriv.\n",
      "220627-00:11:38,506 nipype.workflow ERROR:\n",
      "\t Saving crash info to /home/user01/fMRIreplay_hq/fmrireplay-bids/BIDS/code/GLM/crash-20220627-001138-user01-median.a0-174b62bf-67e0-4e99-bd21-ca2f04fb0d96.pklz\n",
      "Traceback (most recent call last):\n",
      "  File \"/home/liulab/anaconda3/envs/huangqi_fmriprep/lib/python3.8/site-packages/nipype/pipeline/plugins/linear.py\", line 47, in run\n",
      "    node.run(updatehash=updatehash)\n",
      "  File \"/home/liulab/anaconda3/envs/huangqi_fmriprep/lib/python3.8/site-packages/nipype/pipeline/engine/nodes.py\", line 524, in run\n",
      "    result = self._run_interface(execute=True)\n",
      "  File \"/home/liulab/anaconda3/envs/huangqi_fmriprep/lib/python3.8/site-packages/nipype/pipeline/engine/nodes.py\", line 1361, in _run_interface\n",
      "    result = self._collate_results(\n",
      "  File \"/home/liulab/anaconda3/envs/huangqi_fmriprep/lib/python3.8/site-packages/nipype/pipeline/engine/nodes.py\", line 1230, in _collate_results\n",
      "    for i, nresult, err in nodes:\n",
      "  File \"/home/liulab/anaconda3/envs/huangqi_fmriprep/lib/python3.8/site-packages/nipype/pipeline/engine/utils.py\", line 94, in nodelist_runner\n",
      "    result = node.run(updatehash=updatehash)\n",
      "  File \"/home/liulab/anaconda3/envs/huangqi_fmriprep/lib/python3.8/site-packages/nipype/pipeline/engine/nodes.py\", line 524, in run\n",
      "    result = self._run_interface(execute=True)\n",
      "  File \"/home/liulab/anaconda3/envs/huangqi_fmriprep/lib/python3.8/site-packages/nipype/pipeline/engine/nodes.py\", line 642, in _run_interface\n",
      "    return self._run_command(execute)\n",
      "  File \"/home/liulab/anaconda3/envs/huangqi_fmriprep/lib/python3.8/site-packages/nipype/pipeline/engine/nodes.py\", line 750, in _run_command\n",
      "    raise NodeExecutionError(\n",
      "nipype.pipeline.engine.nodes.NodeExecutionError: Exception raised while executing Node _median0.\n",
      "\n",
      "Traceback (most recent call last):\n",
      "  File \"/home/liulab/anaconda3/envs/huangqi_fmriprep/lib/python3.8/site-packages/nipype/interfaces/base/core.py\", line 398, in run\n",
      "    runtime = self._run_interface(runtime)\n",
      "  File \"/home/liulab/anaconda3/envs/huangqi_fmriprep/lib/python3.8/site-packages/nipype/interfaces/base/core.py\", line 753, in _run_interface\n",
      "    raise IOError(\n",
      "OSError: No command \"fslstats\" found on host liulabPriv. Please check that the corresponding package is installed.\n",
      "\n",
      "\n",
      "220627-00:11:38,507 nipype.workflow INFO:\n",
      "\t ***********************************\n",
      "220627-00:11:38,508 nipype.workflow ERROR:\n",
      "\t could not run node: l1pipeline.susan_smooth.median.a0\n",
      "220627-00:11:38,508 nipype.workflow INFO:\n",
      "\t crashfile: /home/user01/fMRIreplay_hq/fmrireplay-bids/BIDS/code/GLM/crash-20220627-001138-user01-median.a0-174b62bf-67e0-4e99-bd21-ca2f04fb0d96.pklz\n",
      "220627-00:11:38,508 nipype.workflow INFO:\n",
      "\t ***********************************\n"
     ]
    },
    {
     "ename": "NodeExecutionError",
     "evalue": "Exception raised while executing Node _median0.\n\nTraceback (most recent call last):\n  File \"/home/liulab/anaconda3/envs/huangqi_fmriprep/lib/python3.8/site-packages/nipype/interfaces/base/core.py\", line 398, in run\n    runtime = self._run_interface(runtime)\n  File \"/home/liulab/anaconda3/envs/huangqi_fmriprep/lib/python3.8/site-packages/nipype/interfaces/base/core.py\", line 753, in _run_interface\n    raise IOError(\nOSError: No command \"fslstats\" found on host liulabPriv. Please check that the corresponding package is installed.\n",
     "output_type": "error",
     "traceback": [
      "\u001b[0;31m---------------------------------------------------------------------------\u001b[0m",
      "\u001b[0;31mNodeExecutionError\u001b[0m                        Traceback (most recent call last)",
      "Input \u001b[0;32mIn [332]\u001b[0m, in \u001b[0;36m<cell line: 3>\u001b[0;34m()\u001b[0m\n\u001b[1;32m      1\u001b[0m \u001b[38;5;66;03m# write the graph:\u001b[39;00m\n\u001b[1;32m      2\u001b[0m l1pipeline\u001b[38;5;241m.\u001b[39mwrite_graph(graph2use\u001b[38;5;241m=\u001b[39m\u001b[38;5;124m'\u001b[39m\u001b[38;5;124mcolored\u001b[39m\u001b[38;5;124m'\u001b[39m, simple_form\u001b[38;5;241m=\u001b[39m\u001b[38;5;28;01mTrue\u001b[39;00m)\n\u001b[0;32m----> 3\u001b[0m \u001b[43ml1pipeline\u001b[49m\u001b[38;5;241;43m.\u001b[39;49m\u001b[43mrun\u001b[49m\u001b[43m(\u001b[49m\u001b[43m)\u001b[49m\n",
      "File \u001b[0;32m/home/liulab/anaconda3/envs/huangqi_fmriprep/lib/python3.8/site-packages/nipype/pipeline/engine/workflows.py:638\u001b[0m, in \u001b[0;36mWorkflow.run\u001b[0;34m(self, plugin, plugin_args, updatehash)\u001b[0m\n\u001b[1;32m    636\u001b[0m \u001b[38;5;28;01mif\u001b[39;00m str2bool(\u001b[38;5;28mself\u001b[39m\u001b[38;5;241m.\u001b[39mconfig[\u001b[38;5;124m\"\u001b[39m\u001b[38;5;124mexecution\u001b[39m\u001b[38;5;124m\"\u001b[39m][\u001b[38;5;124m\"\u001b[39m\u001b[38;5;124mcreate_report\u001b[39m\u001b[38;5;124m\"\u001b[39m]):\n\u001b[1;32m    637\u001b[0m     \u001b[38;5;28mself\u001b[39m\u001b[38;5;241m.\u001b[39m_write_report_info(\u001b[38;5;28mself\u001b[39m\u001b[38;5;241m.\u001b[39mbase_dir, \u001b[38;5;28mself\u001b[39m\u001b[38;5;241m.\u001b[39mname, execgraph)\n\u001b[0;32m--> 638\u001b[0m \u001b[43mrunner\u001b[49m\u001b[38;5;241;43m.\u001b[39;49m\u001b[43mrun\u001b[49m\u001b[43m(\u001b[49m\u001b[43mexecgraph\u001b[49m\u001b[43m,\u001b[49m\u001b[43m \u001b[49m\u001b[43mupdatehash\u001b[49m\u001b[38;5;241;43m=\u001b[39;49m\u001b[43mupdatehash\u001b[49m\u001b[43m,\u001b[49m\u001b[43m \u001b[49m\u001b[43mconfig\u001b[49m\u001b[38;5;241;43m=\u001b[39;49m\u001b[38;5;28;43mself\u001b[39;49m\u001b[38;5;241;43m.\u001b[39;49m\u001b[43mconfig\u001b[49m\u001b[43m)\u001b[49m\n\u001b[1;32m    639\u001b[0m datestr \u001b[38;5;241m=\u001b[39m datetime\u001b[38;5;241m.\u001b[39mutcnow()\u001b[38;5;241m.\u001b[39mstrftime(\u001b[38;5;124m\"\u001b[39m\u001b[38;5;124m%\u001b[39m\u001b[38;5;124mY\u001b[39m\u001b[38;5;124m%\u001b[39m\u001b[38;5;124mm\u001b[39m\u001b[38;5;132;01m%d\u001b[39;00m\u001b[38;5;124mT\u001b[39m\u001b[38;5;124m%\u001b[39m\u001b[38;5;124mH\u001b[39m\u001b[38;5;124m%\u001b[39m\u001b[38;5;124mM\u001b[39m\u001b[38;5;124m%\u001b[39m\u001b[38;5;124mS\u001b[39m\u001b[38;5;124m\"\u001b[39m)\n\u001b[1;32m    640\u001b[0m \u001b[38;5;28;01mif\u001b[39;00m str2bool(\u001b[38;5;28mself\u001b[39m\u001b[38;5;241m.\u001b[39mconfig[\u001b[38;5;124m\"\u001b[39m\u001b[38;5;124mexecution\u001b[39m\u001b[38;5;124m\"\u001b[39m][\u001b[38;5;124m\"\u001b[39m\u001b[38;5;124mwrite_provenance\u001b[39m\u001b[38;5;124m\"\u001b[39m]):\n",
      "File \u001b[0;32m/home/liulab/anaconda3/envs/huangqi_fmriprep/lib/python3.8/site-packages/nipype/pipeline/plugins/linear.py:82\u001b[0m, in \u001b[0;36mLinearPlugin.run\u001b[0;34m(self, graph, config, updatehash)\u001b[0m\n\u001b[1;32m     76\u001b[0m \u001b[38;5;28;01mif\u001b[39;00m \u001b[38;5;28mlen\u001b[39m(errors) \u001b[38;5;241m>\u001b[39m \u001b[38;5;241m1\u001b[39m:\n\u001b[1;32m     77\u001b[0m     error, cause \u001b[38;5;241m=\u001b[39m (\n\u001b[1;32m     78\u001b[0m         \u001b[38;5;167;01mRuntimeError\u001b[39;00m(\u001b[38;5;124mf\u001b[39m\u001b[38;5;124m\"\u001b[39m\u001b[38;5;132;01m{\u001b[39;00m\u001b[38;5;28mlen\u001b[39m(errors)\u001b[38;5;132;01m}\u001b[39;00m\u001b[38;5;124m raised. Re-raising first.\u001b[39m\u001b[38;5;124m\"\u001b[39m),\n\u001b[1;32m     79\u001b[0m         error,\n\u001b[1;32m     80\u001b[0m     )\n\u001b[0;32m---> 82\u001b[0m \u001b[38;5;28;01mraise\u001b[39;00m error \u001b[38;5;28;01mfrom\u001b[39;00m \u001b[38;5;21;01mcause\u001b[39;00m\n",
      "File \u001b[0;32m/home/liulab/anaconda3/envs/huangqi_fmriprep/lib/python3.8/site-packages/nipype/pipeline/plugins/linear.py:47\u001b[0m, in \u001b[0;36mLinearPlugin.run\u001b[0;34m(self, graph, config, updatehash)\u001b[0m\n\u001b[1;32m     45\u001b[0m     \u001b[38;5;28;01mif\u001b[39;00m \u001b[38;5;28mself\u001b[39m\u001b[38;5;241m.\u001b[39m_status_callback:\n\u001b[1;32m     46\u001b[0m         \u001b[38;5;28mself\u001b[39m\u001b[38;5;241m.\u001b[39m_status_callback(node, \u001b[38;5;124m\"\u001b[39m\u001b[38;5;124mstart\u001b[39m\u001b[38;5;124m\"\u001b[39m)\n\u001b[0;32m---> 47\u001b[0m     \u001b[43mnode\u001b[49m\u001b[38;5;241;43m.\u001b[39;49m\u001b[43mrun\u001b[49m\u001b[43m(\u001b[49m\u001b[43mupdatehash\u001b[49m\u001b[38;5;241;43m=\u001b[39;49m\u001b[43mupdatehash\u001b[49m\u001b[43m)\u001b[49m\n\u001b[1;32m     48\u001b[0m \u001b[38;5;28;01mexcept\u001b[39;00m \u001b[38;5;167;01mException\u001b[39;00m \u001b[38;5;28;01mas\u001b[39;00m exc:\n\u001b[1;32m     49\u001b[0m     endstatus \u001b[38;5;241m=\u001b[39m \u001b[38;5;124m\"\u001b[39m\u001b[38;5;124mexception\u001b[39m\u001b[38;5;124m\"\u001b[39m\n",
      "File \u001b[0;32m/home/liulab/anaconda3/envs/huangqi_fmriprep/lib/python3.8/site-packages/nipype/pipeline/engine/nodes.py:524\u001b[0m, in \u001b[0;36mNode.run\u001b[0;34m(self, updatehash)\u001b[0m\n\u001b[1;32m    521\u001b[0m savepkl(op\u001b[38;5;241m.\u001b[39mjoin(outdir, \u001b[38;5;124m\"\u001b[39m\u001b[38;5;124m_inputs.pklz\u001b[39m\u001b[38;5;124m\"\u001b[39m), \u001b[38;5;28mself\u001b[39m\u001b[38;5;241m.\u001b[39minputs\u001b[38;5;241m.\u001b[39mget_traitsfree())\n\u001b[1;32m    523\u001b[0m \u001b[38;5;28;01mtry\u001b[39;00m:\n\u001b[0;32m--> 524\u001b[0m     result \u001b[38;5;241m=\u001b[39m \u001b[38;5;28;43mself\u001b[39;49m\u001b[38;5;241;43m.\u001b[39;49m\u001b[43m_run_interface\u001b[49m\u001b[43m(\u001b[49m\u001b[43mexecute\u001b[49m\u001b[38;5;241;43m=\u001b[39;49m\u001b[38;5;28;43;01mTrue\u001b[39;49;00m\u001b[43m)\u001b[49m\n\u001b[1;32m    525\u001b[0m \u001b[38;5;28;01mexcept\u001b[39;00m \u001b[38;5;167;01mException\u001b[39;00m:\n\u001b[1;32m    526\u001b[0m     logger\u001b[38;5;241m.\u001b[39mwarning(\u001b[38;5;124m'\u001b[39m\u001b[38;5;124m[Node] Error on \u001b[39m\u001b[38;5;124m\"\u001b[39m\u001b[38;5;132;01m%s\u001b[39;00m\u001b[38;5;124m\"\u001b[39m\u001b[38;5;124m (\u001b[39m\u001b[38;5;132;01m%s\u001b[39;00m\u001b[38;5;124m)\u001b[39m\u001b[38;5;124m'\u001b[39m, \u001b[38;5;28mself\u001b[39m\u001b[38;5;241m.\u001b[39mfullname, outdir)\n",
      "File \u001b[0;32m/home/liulab/anaconda3/envs/huangqi_fmriprep/lib/python3.8/site-packages/nipype/pipeline/engine/nodes.py:1361\u001b[0m, in \u001b[0;36mMapNode._run_interface\u001b[0;34m(self, execute, updatehash)\u001b[0m\n\u001b[1;32m   1350\u001b[0m result \u001b[38;5;241m=\u001b[39m InterfaceResult(\n\u001b[1;32m   1351\u001b[0m     interface\u001b[38;5;241m=\u001b[39m\u001b[38;5;28mself\u001b[39m\u001b[38;5;241m.\u001b[39m_interface\u001b[38;5;241m.\u001b[39m\u001b[38;5;18m__class__\u001b[39m,\n\u001b[1;32m   1352\u001b[0m     runtime\u001b[38;5;241m=\u001b[39mBunch(\n\u001b[0;32m   (...)\u001b[0m\n\u001b[1;32m   1358\u001b[0m     inputs\u001b[38;5;241m=\u001b[39m\u001b[38;5;28mself\u001b[39m\u001b[38;5;241m.\u001b[39m_interface\u001b[38;5;241m.\u001b[39minputs\u001b[38;5;241m.\u001b[39mget_traitsfree(),\n\u001b[1;32m   1359\u001b[0m )\n\u001b[1;32m   1360\u001b[0m \u001b[38;5;28;01mtry\u001b[39;00m:\n\u001b[0;32m-> 1361\u001b[0m     result \u001b[38;5;241m=\u001b[39m \u001b[38;5;28;43mself\u001b[39;49m\u001b[38;5;241;43m.\u001b[39;49m\u001b[43m_collate_results\u001b[49m\u001b[43m(\u001b[49m\n\u001b[1;32m   1362\u001b[0m \u001b[43m        \u001b[49m\u001b[43m_node_runner\u001b[49m\u001b[43m(\u001b[49m\n\u001b[1;32m   1363\u001b[0m \u001b[43m            \u001b[49m\u001b[38;5;28;43mself\u001b[39;49m\u001b[38;5;241;43m.\u001b[39;49m\u001b[43m_make_nodes\u001b[49m\u001b[43m(\u001b[49m\u001b[43mcwd\u001b[49m\u001b[43m)\u001b[49m\u001b[43m,\u001b[49m\n\u001b[1;32m   1364\u001b[0m \u001b[43m            \u001b[49m\u001b[43mupdatehash\u001b[49m\u001b[38;5;241;43m=\u001b[39;49m\u001b[43mupdatehash\u001b[49m\u001b[43m,\u001b[49m\n\u001b[1;32m   1365\u001b[0m \u001b[43m            \u001b[49m\u001b[43mstop_first\u001b[49m\u001b[38;5;241;43m=\u001b[39;49m\u001b[43mstr2bool\u001b[49m\u001b[43m(\u001b[49m\n\u001b[1;32m   1366\u001b[0m \u001b[43m                \u001b[49m\u001b[38;5;28;43mself\u001b[39;49m\u001b[38;5;241;43m.\u001b[39;49m\u001b[43mconfig\u001b[49m\u001b[43m[\u001b[49m\u001b[38;5;124;43m\"\u001b[39;49m\u001b[38;5;124;43mexecution\u001b[39;49m\u001b[38;5;124;43m\"\u001b[39;49m\u001b[43m]\u001b[49m\u001b[43m[\u001b[49m\u001b[38;5;124;43m\"\u001b[39;49m\u001b[38;5;124;43mstop_on_first_crash\u001b[39;49m\u001b[38;5;124;43m\"\u001b[39;49m\u001b[43m]\u001b[49m\n\u001b[1;32m   1367\u001b[0m \u001b[43m            \u001b[49m\u001b[43m)\u001b[49m\u001b[43m,\u001b[49m\n\u001b[1;32m   1368\u001b[0m \u001b[43m        \u001b[49m\u001b[43m)\u001b[49m\n\u001b[1;32m   1369\u001b[0m \u001b[43m    \u001b[49m\u001b[43m)\u001b[49m\n\u001b[1;32m   1370\u001b[0m \u001b[38;5;28;01mexcept\u001b[39;00m \u001b[38;5;167;01mException\u001b[39;00m \u001b[38;5;28;01mas\u001b[39;00m msg:\n\u001b[1;32m   1371\u001b[0m     result\u001b[38;5;241m.\u001b[39mruntime\u001b[38;5;241m.\u001b[39mstderr \u001b[38;5;241m=\u001b[39m \u001b[38;5;124m\"\u001b[39m\u001b[38;5;132;01m%s\u001b[39;00m\u001b[38;5;130;01m\\n\u001b[39;00m\u001b[38;5;130;01m\\n\u001b[39;00m\u001b[38;5;132;01m%s\u001b[39;00m\u001b[38;5;124m\"\u001b[39m\u001b[38;5;241m.\u001b[39mformat(\n\u001b[1;32m   1372\u001b[0m         \u001b[38;5;28mgetattr\u001b[39m(result\u001b[38;5;241m.\u001b[39mruntime, \u001b[38;5;124m\"\u001b[39m\u001b[38;5;124mstderr\u001b[39m\u001b[38;5;124m\"\u001b[39m, \u001b[38;5;124m\"\u001b[39m\u001b[38;5;124m\"\u001b[39m), msg\n\u001b[1;32m   1373\u001b[0m     )\n",
      "File \u001b[0;32m/home/liulab/anaconda3/envs/huangqi_fmriprep/lib/python3.8/site-packages/nipype/pipeline/engine/nodes.py:1230\u001b[0m, in \u001b[0;36mMapNode._collate_results\u001b[0;34m(self, nodes)\u001b[0m\n\u001b[1;32m   1226\u001b[0m finalresult \u001b[38;5;241m=\u001b[39m InterfaceResult(\n\u001b[1;32m   1227\u001b[0m     interface\u001b[38;5;241m=\u001b[39m[], runtime\u001b[38;5;241m=\u001b[39m[], provenance\u001b[38;5;241m=\u001b[39m[], inputs\u001b[38;5;241m=\u001b[39m[], outputs\u001b[38;5;241m=\u001b[39m\u001b[38;5;28mself\u001b[39m\u001b[38;5;241m.\u001b[39moutputs\n\u001b[1;32m   1228\u001b[0m )\n\u001b[1;32m   1229\u001b[0m returncode \u001b[38;5;241m=\u001b[39m []\n\u001b[0;32m-> 1230\u001b[0m \u001b[38;5;28;01mfor\u001b[39;00m i, nresult, err \u001b[38;5;129;01min\u001b[39;00m nodes:\n\u001b[1;32m   1231\u001b[0m     finalresult\u001b[38;5;241m.\u001b[39mruntime\u001b[38;5;241m.\u001b[39minsert(i, \u001b[38;5;28;01mNone\u001b[39;00m)\n\u001b[1;32m   1232\u001b[0m     returncode\u001b[38;5;241m.\u001b[39minsert(i, err)\n",
      "File \u001b[0;32m/home/liulab/anaconda3/envs/huangqi_fmriprep/lib/python3.8/site-packages/nipype/pipeline/engine/utils.py:94\u001b[0m, in \u001b[0;36mnodelist_runner\u001b[0;34m(nodes, updatehash, stop_first)\u001b[0m\n\u001b[1;32m     92\u001b[0m result \u001b[38;5;241m=\u001b[39m \u001b[38;5;28;01mNone\u001b[39;00m\n\u001b[1;32m     93\u001b[0m \u001b[38;5;28;01mtry\u001b[39;00m:\n\u001b[0;32m---> 94\u001b[0m     result \u001b[38;5;241m=\u001b[39m \u001b[43mnode\u001b[49m\u001b[38;5;241;43m.\u001b[39;49m\u001b[43mrun\u001b[49m\u001b[43m(\u001b[49m\u001b[43mupdatehash\u001b[49m\u001b[38;5;241;43m=\u001b[39;49m\u001b[43mupdatehash\u001b[49m\u001b[43m)\u001b[49m\n\u001b[1;32m     95\u001b[0m \u001b[38;5;28;01mexcept\u001b[39;00m \u001b[38;5;167;01mException\u001b[39;00m:\n\u001b[1;32m     96\u001b[0m     \u001b[38;5;28;01mif\u001b[39;00m stop_first:\n",
      "File \u001b[0;32m/home/liulab/anaconda3/envs/huangqi_fmriprep/lib/python3.8/site-packages/nipype/pipeline/engine/nodes.py:524\u001b[0m, in \u001b[0;36mNode.run\u001b[0;34m(self, updatehash)\u001b[0m\n\u001b[1;32m    521\u001b[0m savepkl(op\u001b[38;5;241m.\u001b[39mjoin(outdir, \u001b[38;5;124m\"\u001b[39m\u001b[38;5;124m_inputs.pklz\u001b[39m\u001b[38;5;124m\"\u001b[39m), \u001b[38;5;28mself\u001b[39m\u001b[38;5;241m.\u001b[39minputs\u001b[38;5;241m.\u001b[39mget_traitsfree())\n\u001b[1;32m    523\u001b[0m \u001b[38;5;28;01mtry\u001b[39;00m:\n\u001b[0;32m--> 524\u001b[0m     result \u001b[38;5;241m=\u001b[39m \u001b[38;5;28;43mself\u001b[39;49m\u001b[38;5;241;43m.\u001b[39;49m\u001b[43m_run_interface\u001b[49m\u001b[43m(\u001b[49m\u001b[43mexecute\u001b[49m\u001b[38;5;241;43m=\u001b[39;49m\u001b[38;5;28;43;01mTrue\u001b[39;49;00m\u001b[43m)\u001b[49m\n\u001b[1;32m    525\u001b[0m \u001b[38;5;28;01mexcept\u001b[39;00m \u001b[38;5;167;01mException\u001b[39;00m:\n\u001b[1;32m    526\u001b[0m     logger\u001b[38;5;241m.\u001b[39mwarning(\u001b[38;5;124m'\u001b[39m\u001b[38;5;124m[Node] Error on \u001b[39m\u001b[38;5;124m\"\u001b[39m\u001b[38;5;132;01m%s\u001b[39;00m\u001b[38;5;124m\"\u001b[39m\u001b[38;5;124m (\u001b[39m\u001b[38;5;132;01m%s\u001b[39;00m\u001b[38;5;124m)\u001b[39m\u001b[38;5;124m'\u001b[39m, \u001b[38;5;28mself\u001b[39m\u001b[38;5;241m.\u001b[39mfullname, outdir)\n",
      "File \u001b[0;32m/home/liulab/anaconda3/envs/huangqi_fmriprep/lib/python3.8/site-packages/nipype/pipeline/engine/nodes.py:642\u001b[0m, in \u001b[0;36mNode._run_interface\u001b[0;34m(self, execute, updatehash)\u001b[0m\n\u001b[1;32m    640\u001b[0m     \u001b[38;5;28mself\u001b[39m\u001b[38;5;241m.\u001b[39m_update_hash()\n\u001b[1;32m    641\u001b[0m     \u001b[38;5;28;01mreturn\u001b[39;00m \u001b[38;5;28mself\u001b[39m\u001b[38;5;241m.\u001b[39m_load_results()\n\u001b[0;32m--> 642\u001b[0m \u001b[38;5;28;01mreturn\u001b[39;00m \u001b[38;5;28;43mself\u001b[39;49m\u001b[38;5;241;43m.\u001b[39;49m\u001b[43m_run_command\u001b[49m\u001b[43m(\u001b[49m\u001b[43mexecute\u001b[49m\u001b[43m)\u001b[49m\n",
      "File \u001b[0;32m/home/liulab/anaconda3/envs/huangqi_fmriprep/lib/python3.8/site-packages/nipype/pipeline/engine/nodes.py:750\u001b[0m, in \u001b[0;36mNode._run_command\u001b[0;34m(self, execute, copyfiles)\u001b[0m\n\u001b[1;32m    742\u001b[0m _save_resultfile(\n\u001b[1;32m    743\u001b[0m     result,\n\u001b[1;32m    744\u001b[0m     outdir,\n\u001b[1;32m    745\u001b[0m     \u001b[38;5;28mself\u001b[39m\u001b[38;5;241m.\u001b[39mname,\n\u001b[1;32m    746\u001b[0m     rebase\u001b[38;5;241m=\u001b[39mstr2bool(\u001b[38;5;28mself\u001b[39m\u001b[38;5;241m.\u001b[39mconfig[\u001b[38;5;124m\"\u001b[39m\u001b[38;5;124mexecution\u001b[39m\u001b[38;5;124m\"\u001b[39m][\u001b[38;5;124m\"\u001b[39m\u001b[38;5;124muse_relative_paths\u001b[39m\u001b[38;5;124m\"\u001b[39m]),\n\u001b[1;32m    747\u001b[0m )\n\u001b[1;32m    749\u001b[0m \u001b[38;5;28;01mif\u001b[39;00m exc_tb:\n\u001b[0;32m--> 750\u001b[0m     \u001b[38;5;28;01mraise\u001b[39;00m NodeExecutionError(\n\u001b[1;32m    751\u001b[0m         \u001b[38;5;124mf\u001b[39m\u001b[38;5;124m\"\u001b[39m\u001b[38;5;124mException raised while executing Node \u001b[39m\u001b[38;5;132;01m{\u001b[39;00m\u001b[38;5;28mself\u001b[39m\u001b[38;5;241m.\u001b[39mname\u001b[38;5;132;01m}\u001b[39;00m\u001b[38;5;124m.\u001b[39m\u001b[38;5;130;01m\\n\u001b[39;00m\u001b[38;5;130;01m\\n\u001b[39;00m\u001b[38;5;132;01m{\u001b[39;00mresult\u001b[38;5;241m.\u001b[39mruntime\u001b[38;5;241m.\u001b[39mtraceback\u001b[38;5;132;01m}\u001b[39;00m\u001b[38;5;124m\"\u001b[39m\n\u001b[1;32m    752\u001b[0m     )\n\u001b[1;32m    754\u001b[0m \u001b[38;5;28;01mreturn\u001b[39;00m result\n",
      "\u001b[0;31mNodeExecutionError\u001b[0m: Exception raised while executing Node _median0.\n\nTraceback (most recent call last):\n  File \"/home/liulab/anaconda3/envs/huangqi_fmriprep/lib/python3.8/site-packages/nipype/interfaces/base/core.py\", line 398, in run\n    runtime = self._run_interface(runtime)\n  File \"/home/liulab/anaconda3/envs/huangqi_fmriprep/lib/python3.8/site-packages/nipype/interfaces/base/core.py\", line 753, in _run_interface\n    raise IOError(\nOSError: No command \"fslstats\" found on host liulabPriv. Please check that the corresponding package is installed.\n"
     ]
    }
   ],
   "source": [
    "# write the graph:\n",
    "l1pipeline.write_graph(graph2use='colored', simple_form=True)\n",
    "l1pipeline.run()\n",
    "# set the maximum resources the workflow can utilize:\n",
    "# args_dict = {'status_callback' : log_nodes_cb}\n",
    "# execute the workflow depending on the operating system:\n",
    "# if 'darwin' in sys.platform:\n",
    "#     # will execute the workflow using all available cpus:\n",
    "#     l1pipeline.run(plugin='MultiProc')\n",
    "# elif 'linux' in sys.platform:\n",
    "#     l1pipeline.run(plugin='PBS', plugin_args=dict(template=job_template))"
   ]
  },
  {
   "cell_type": "code",
   "execution_count": 291,
   "id": "0b179ca7-420e-4983-a69c-61656960d14c",
   "metadata": {},
   "outputs": [
    {
     "ename": "NameError",
     "evalue": "name 'clc' is not defined",
     "output_type": "error",
     "traceback": [
      "\u001b[0;31m---------------------------------------------------------------------------\u001b[0m",
      "\u001b[0;31mNameError\u001b[0m                                 Traceback (most recent call last)",
      "Input \u001b[0;32mIn [291]\u001b[0m, in \u001b[0;36m<cell line: 1>\u001b[0;34m()\u001b[0m\n\u001b[0;32m----> 1\u001b[0m \u001b[43mclc\u001b[49m\n",
      "\u001b[0;31mNameError\u001b[0m: name 'clc' is not defined"
     ]
    }
   ],
   "source": []
  },
  {
   "cell_type": "markdown",
   "id": "84da5253-2db8-48c6-b352-907a94e7fe95",
   "metadata": {},
   "source": []
  },
  {
   "cell_type": "code",
   "execution_count": 81,
   "id": "de4e4eb0-90bc-4cf9-9b71-5d352460ad2f",
   "metadata": {},
   "outputs": [
    {
     "name": "stdout",
     "output_type": "stream",
     "text": [
      "220622-16:05:59,59 nipype.workflow INFO:\n",
      "\t Generated workflow graph: /home/user01/fMRIreplay_hq/work/l1pipeline/graph.png (graph2use=colored, simple_form=True).\n"
     ]
    },
    {
     "data": {
      "text/plain": [
       "'/home/user01/fMRIreplay_hq/work/l1pipeline/graph.png'"
      ]
     },
     "execution_count": 81,
     "metadata": {},
     "output_type": "execute_result"
    }
   ],
   "source": [
    "l1pipeline.write_graph(graph2use='colored', simple_form=True)"
   ]
  },
  {
   "cell_type": "markdown",
   "id": "1bb99776-8c5d-4a19-9ba0-93740153641a",
   "metadata": {},
   "source": []
  },
  {
   "cell_type": "code",
   "execution_count": null,
   "id": "96cc68ee-886e-423a-b01a-9c7d4114b874",
   "metadata": {},
   "outputs": [],
   "source": []
  }
 ],
 "metadata": {
  "kernelspec": {
   "display_name": "Python (huangqi_fmriprep)",
   "language": "python",
   "name": "huangqi_fmriprep"
  },
  "language_info": {
   "codemirror_mode": {
    "name": "ipython",
    "version": 3
   },
   "file_extension": ".py",
   "mimetype": "text/x-python",
   "name": "python",
   "nbconvert_exporter": "python",
   "pygments_lexer": "ipython3",
   "version": "3.8.13"
  },
  "widgets": {
   "application/vnd.jupyter.widget-state+json": {
    "state": {},
    "version_major": 2,
    "version_minor": 0
   }
  }
 },
 "nbformat": 4,
 "nbformat_minor": 5
}
