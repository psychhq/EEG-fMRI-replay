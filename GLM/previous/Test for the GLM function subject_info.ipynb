{
 "cells": [
  {
   "cell_type": "markdown",
   "id": "55781f6d-cb76-4d75-b129-07978031214d",
   "metadata": {
    "tags": []
   },
   "source": [
    "# Test for the GLM function subject_info"
   ]
  },
  {
   "cell_type": "code",
   "execution_count": 6,
   "id": "0234923e-8a83-49cc-9d4d-94125048f74e",
   "metadata": {},
   "outputs": [
    {
     "name": "stdout",
     "output_type": "stream",
     "text": [
      "220623-17:22:17,378 nipype.interface INFO:\n",
      "\t We advise you to upgrade DIPY version. This upgrade will open access to more function\n",
      "220623-17:22:17,382 nipype.interface INFO:\n",
      "\t We advise you to upgrade DIPY version. This upgrade will open access to more function\n",
      "220623-17:22:17,384 nipype.interface INFO:\n",
      "\t We advise you to upgrade DIPY version. This upgrade will open access to more models\n"
     ]
    },
    {
     "name": "stderr",
     "output_type": "stream",
     "text": [
      "/home/liulab/anaconda3/envs/huangqi_fmriprep/lib/python3.8/site-packages/niflow/nipype1/workflows/dmri/mrtrix/group_connectivity.py:16: UserWarning: cmp not installed\n",
      "  warnings.warn('cmp not installed')\n",
      "/home/liulab/anaconda3/envs/huangqi_fmriprep/lib/python3.8/site-packages/nipype/workflows/__init__.py:28: UserWarning: Nipype 1 workflows have been moved to the niflow-nipype1-workflows package. nipype.workflows.* provides a reference for backwards compatibility. Please use niflow.nipype1.workflows.* to avoid this warning.\n",
      "  warnings.warn(\" \".join(_msg))\n"
     ]
    }
   ],
   "source": [
    "\"\"\"\n",
    "FUNCTION TO GET THE SUBJECT-SPECIFIC INFORMATION\n",
    ":param events: list with paths to events files\n",
    ":param confounds: list with paths to confounds files\n",
    ":return: Bunch object with event onsets, durations and regressors\n",
    "\"\"\"\n",
    "\n",
    "# import libraries (needed to be done in the function):\n",
    "# import basic libraries:\n",
    "import os\n",
    "import glob\n",
    "import sys\n",
    "import warnings\n",
    "from os.path import join as opj\n",
    "# import nipype libraries:\n",
    "from nipype.interfaces.utility import Function, IdentityInterface\n",
    "from nipype.interfaces.io import SelectFiles, DataSink\n",
    "from nipype.pipeline.engine import Workflow, Node, MapNode\n",
    "from nipype.utils.profiler import log_nodes_cb\n",
    "from nipype import config, logging\n",
    "# import spm and matlab interfaces:\n",
    "from nipype.algorithms.modelgen import SpecifySPMModel\n",
    "from nipype.interfaces.spm.model import (\n",
    "    Level1Design, EstimateModel, EstimateContrast, ThresholdStatistics,\n",
    "    Threshold)\n",
    "from nipype.interfaces.matlab import MatlabCommand\n",
    "from nipype.interfaces import spm\n",
    "# import fsl interfaces:`\n",
    "from nipype.workflows.fmri.fsl import create_susan_smooth\n",
    "from nipype.interfaces.fsl.utils import ExtractROI\n",
    "# import libraries for bids interaction:\n",
    "from bids.layout import BIDSLayout\n",
    "# import freesurfer interfaces:\n",
    "# import custom functions:\n",
    "from fMRIreplay_glm_functions import (\n",
    "    get_subject_info, plot_stat_maps, leave_one_out)\n",
    "import pandas as pd\n",
    "from nipype.interfaces.base import Bunch"
   ]
  },
  {
   "cell_type": "code",
   "execution_count": 7,
   "id": "d742d287-17cf-4abc-9195-fd0703f701b3",
   "metadata": {},
   "outputs": [],
   "source": [
    "# time of repetition, in seconds:\n",
    "time_repetition = 1.3\n",
    "# total number of runs:\n",
    "num_runs = 2\n",
    "# total number of folds for leave-one-out-run:\n",
    "num_fold = 4\n",
    "# smoothing kernel, in mm:\n",
    "fwhm = 4\n",
    "# number of dummy variables to remove from each run:\n",
    "num_dummy = 0"
   ]
  },
  {
   "cell_type": "code",
   "execution_count": 8,
   "id": "6f1495c5-eb89-4e65-8b15-2ea827ab119b",
   "metadata": {},
   "outputs": [],
   "source": [
    "project = 'fMRIreplay'\n",
    "# initialize empty paths:\n",
    "path_root = None\n",
    "sub_list = None\n",
    "# path to the project root:\n",
    "project_name = 'fmrireplay-glm'\n",
    "path_root = opj(os.getcwd().split(project)[0] ,'fMRIreplay_hq')\n",
    "path_bids = opj(path_root ,'fmrireplay-bids','BIDS')\n",
    "path_fmriprep = opj(path_bids ,'derivatives')\n",
    "path_glm = opj(path_root, project_name)"
   ]
  },
  {
   "cell_type": "code",
   "execution_count": 10,
   "id": "3fb0585b-3184-4eef-ad7c-d3a5170cff94",
   "metadata": {},
   "outputs": [
    {
     "name": "stdout",
     "output_type": "stream",
     "text": [
      "220623-17:22:28,418 nipype.workflow INFO:\n",
      "\t [Node] Setting-up \"selectfiles\" in \"/tmp/tmpmpnb5mat/selectfiles\".\n",
      "220623-17:22:28,421 nipype.workflow INFO:\n",
      "\t [Node] Executing \"selectfiles\" <nipype.interfaces.io.SelectFiles>\n",
      "220623-17:22:28,424 nipype.workflow INFO:\n",
      "\t [Node] Finished \"selectfiles\", elapsed time 0.002255s.\n"
     ]
    }
   ],
   "source": [
    "sub_list = ['sub-04']\n",
    "templates = dict(\n",
    "    confounds=opj(path_fmriprep,'{subject_id}' , 'func','*vfl*confounds_timeseries.tsv'),\n",
    "    events=opj(path_bids,'{subject_id}', 'func','*vfl*events.tsv'),\n",
    "    func=opj(path_fmriprep,'{subject_id}', 'func','*vfl*space-T1w*preproc_bold.nii.gz'),\n",
    "    anat=opj(path_fmriprep,'{subject_id}', 'anat','{subject_id}_desc-preproc_T1w.nii.gz'),\n",
    "    wholemask=opj(path_fmriprep,'{subject_id}','func','*vfl*space-T1w*brain_mask.nii.gz'),\n",
    ")\n",
    "# define the selectfiles node:\n",
    "selectfiles = Node(SelectFiles(templates, sort_filelist=True),\n",
    "                   name='selectfiles')\n",
    "# set expected thread and memory usage for the node:\n",
    "selectfiles.interface.num_threads = 1\n",
    "selectfiles.interface.mem_gb = 0.1\n",
    "selectfiles.inputs.subject_id = 'sub-04'\n",
    "selectfiles_results = selectfiles.run()"
   ]
  },
  {
   "cell_type": "code",
   "execution_count": 11,
   "id": "bc9f9396-d72d-45e3-b891-02ad14ada81e",
   "metadata": {},
   "outputs": [],
   "source": [
    "# event types we consider:\n",
    "vfl_event_spec = {\n",
    "    'correct_rejection': {'Ori': 0, 'accuracy': 1},\n",
    "    'hit': {'Ori': 180, 'accuracy': 1},\n",
    "    'false_alarm': {'Ori': 0, 'accuracy': 0},\n",
    "    'miss': {'Ori': 180, 'accuracy': 0},\n",
    "}"
   ]
  },
  {
   "cell_type": "code",
   "execution_count": 13,
   "id": "20190d72-fcc5-42a5-b6f3-f232c3c0a063",
   "metadata": {},
   "outputs": [],
   "source": [
    "# read the events and confounds files of the current run:\n",
    "events = selectfiles_results.outputs.events[0]\n",
    "confounds = selectfiles_results.outputs.confounds[0]"
   ]
  },
  {
   "cell_type": "code",
   "execution_count": 14,
   "id": "81ede8a2-175a-440a-b2b4-6c365de2e7ce",
   "metadata": {
    "tags": []
   },
   "outputs": [],
   "source": [
    "#event_names = ['correct_rejection']\n",
    "\n",
    "\n",
    "run_events = pd.read_csv(events, sep=\"\\t\")\n",
    "run_confounds = pd.read_csv(confounds, sep=\"\\t\")\n",
    "\n",
    "# define confounds to include as regressors:\n",
    "confounds = ['trans', 'rot', 'a_comp_cor', 'framewise_displacement']\n",
    "# search for confounds of interest in the confounds data frame:\n",
    "regressor_names = [col for col in run_confounds.columns if\n",
    "                   any([conf in col for conf in confounds])]"
   ]
  },
  {
   "cell_type": "code",
   "execution_count": 15,
   "id": "ed7a6b95-c2e9-4aeb-bd09-25f387e0aa06",
   "metadata": {},
   "outputs": [],
   "source": [
    "def replace_nan(regressor_values):\n",
    "    # calculate the mean value of the regressor:\n",
    "    mean_value = regressor_values.mean(skipna=True)\n",
    "    # replace all values containing nan with the mean value:\n",
    "    regressor_values[regressor_values.isnull()] = mean_value\n",
    "    # return list of the regressor values:\n",
    "    return list(regressor_values)\n",
    "\n",
    "# create a nested list with regressor values\n",
    "regressors = [replace_nan(run_confounds[conf]) for conf in regressor_names]\n",
    "\n",
    "onsets = []\n",
    "durations = []\n",
    "event_names = []"
   ]
  },
  {
   "cell_type": "code",
   "execution_count": 16,
   "id": "966880bf-3204-490f-a847-c96921c8a61a",
   "metadata": {},
   "outputs": [],
   "source": [
    "for event in vfl_event_spec:\n",
    "    onset_list = list(\n",
    "        run_events['onset']\n",
    "        [(run_events['task'] == 'VFL') &\n",
    "         (run_events['Ori'] == vfl_event_spec[event]['Ori']) &\n",
    "         (run_events['accuracy'] == vfl_event_spec[event]['accuracy'])])\n",
    "    duration_list = list(\n",
    "        run_events['duration']\n",
    "        [(run_events['task'] == 'VFL') &\n",
    "         (run_events['Ori'] == vfl_event_spec[event]['Ori']) &\n",
    "         (run_events['accuracy'] == vfl_event_spec[event]['accuracy'])])\n",
    "    if (onset_list != []) & (duration_list != []):\n",
    "        event_names.append(event)\n",
    "        onsets.append(onset_list)\n",
    "        durations.append(duration_list)"
   ]
  },
  {
   "cell_type": "code",
   "execution_count": 22,
   "id": "eff06ebe-ea9d-45f9-b2e0-67f94524ef3c",
   "metadata": {},
   "outputs": [],
   "source": [
    "# durations"
   ]
  },
  {
   "cell_type": "code",
   "execution_count": 23,
   "id": "729cfd06-66ed-4ede-8d2d-0994fa1fa759",
   "metadata": {},
   "outputs": [],
   "source": [
    "# onsets"
   ]
  },
  {
   "cell_type": "code",
   "execution_count": 19,
   "id": "b5d5a438-9518-4bce-9f33-bf85fe4fcd0a",
   "metadata": {},
   "outputs": [],
   "source": [
    "# create a bunch for each run:\n",
    "subject_info = Bunch(\n",
    "    conditions=event_names, onsets=onsets, durations=durations,\n",
    "    regressor_names=regressor_names, regressors=regressors)"
   ]
  },
  {
   "cell_type": "code",
   "execution_count": 24,
   "id": "1eaf57d7-47cd-4e0c-89ab-63aa633927c2",
   "metadata": {},
   "outputs": [],
   "source": [
    "# subject_info"
   ]
  },
  {
   "cell_type": "code",
   "execution_count": 20,
   "id": "14b807e1-7f1d-41ee-8b59-efff3e7cdc1a",
   "metadata": {},
   "outputs": [
    {
     "data": {
      "text/plain": [
       "['correct_rejection', 'false_alarm', 'hit', 'miss']"
      ]
     },
     "execution_count": 20,
     "metadata": {},
     "output_type": "execute_result"
    }
   ],
   "source": [
    "sorted(event_names)"
   ]
  },
  {
   "cell_type": "code",
   "execution_count": null,
   "id": "55269c9a-fb3f-46b4-a063-5093b65221f0",
   "metadata": {},
   "outputs": [],
   "source": [
    "# def leave_one_out(subject_info, event_names, data_func, run):\n",
    "    \"\"\"\n",
    "    Select subsets of lists in leave-one-out fashion:\n",
    "    :param subject_info: list of subject info bunch objects\n",
    "    :param data_func: list of functional runs\n",
    "    :param run: current run\n",
    "    :return: return list of subject info and data excluding the current run\n",
    "    \"\"\"\n",
    "subject_info = \n",
    "event_names = \n",
    "data_func = \n",
    "run = \n",
    "\n",
    "# create new list with event_names of all runs except current run:\n",
    "for n in nums_fold:\n",
    "    if n = 1:\n",
    "        event_names = [info for i, info in [0:int(enumerate(event_names)/2-1)] if i != fold]\n",
    "        num_events = [len(i) in event_names/2]\n",
    "        max_events = event_names[num_events.index(max(num_events))]/2\n",
    "    elif n = 2:\n",
    "        event_names = [info for i, info in [int(enumerate(event_names))/2:int(enumerate(event_names))] if i != fold]\n",
    "        num_events = [len(i) in event_names/2]\n",
    "        max_events = event_names[num_events.index(max(num_events))]/2\n",
    "\n",
    "        \n",
    "event_names = [info for i, info in enumerate(event_names) if i != fold]\n",
    "num_events = [len(i) for i in event_names]\n",
    "max_events = event_names[num_events.index(max(num_events))]\n",
    "\n",
    "# create list of contrasts:\n",
    "stim = 'correct_rejection'\n",
    "contrast1 = (stim, 'T', max_events, [1 if stim in s else 0 for s in max_events])\n",
    "contrasts = [contrast1]\n",
    "\n",
    "# create new list with subject info of all runs except current run:\n",
    "subject_info = [info for i, info in enumerate(subject_info) if i != run]\n",
    "# create new list with functional data of all runs except current run:\n",
    "data_func = [info for i, info in enumerate(data_func) if i != run]\n",
    "\n",
    "# return the new lists\n",
    "return subject_info, data_func, contrasts\n"
   ]
  },
  {
   "cell_type": "code",
   "execution_count": null,
   "id": "78cc4f59-285e-45e5-ba27-f667fa0e918c",
   "metadata": {},
   "outputs": [],
   "source": [
    "\n",
    "\"\"\"\n",
    "Select subsets of lists in leave-one-out fashion:\n",
    ":param subject_info: list of subject info bunch objects\n",
    ":param data_func: list of functional runs\n",
    ":param run: current run\n",
    ":return: return list of subject info and data excluding the current run\n",
    "\"\"\"\n",
    "subject_info = subject_info\n",
    "event_names = event_names\n",
    "data_func = \n",
    "run = nums_run\n",
    "# create new list with event_names of all runs except current run:\n",
    "event_names = [info for i, info in enumerate(event_names) if i != run]\n",
    "num_events = [len(i) for i in event_names]\n",
    "max_events = event_names[num_events.index(max(num_events))]\n",
    "\n",
    "# create list of contrasts:\n",
    "stim = 'correct_rejection'\n",
    "contrast1 = (stim, 'T', max_events, [1 if stim in s else 0 for s in max_events])\n",
    "contrasts = [contrast1]\n",
    "\n",
    "# create new list with subject info of all runs except current run:\n",
    "subject_info = [info for i, info in enumerate(subject_info) if i != run]\n",
    "# create new list with functional data of all runs except current run:\n",
    "data_func = [info for i, info in enumerate(data_func) if i != run]\n",
    "\n",
    "# return the new lists\n",
    "return subject_info, data_func, contrasts"
   ]
  }
 ],
 "metadata": {
  "kernelspec": {
   "display_name": "Python (huangqi_fmriprep)",
   "language": "python",
   "name": "huangqi_fmriprep"
  },
  "language_info": {
   "codemirror_mode": {
    "name": "ipython",
    "version": 3
   },
   "file_extension": ".py",
   "mimetype": "text/x-python",
   "name": "python",
   "nbconvert_exporter": "python",
   "pygments_lexer": "ipython3",
   "version": "3.8.13"
  },
  "widgets": {
   "application/vnd.jupyter.widget-state+json": {
    "state": {},
    "version_major": 2,
    "version_minor": 0
   }
  }
 },
 "nbformat": 4,
 "nbformat_minor": 5
}
